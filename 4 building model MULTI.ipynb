{
 "cells": [
  {
   "cell_type": "code",
   "execution_count": 1,
   "metadata": {},
   "outputs": [],
   "source": [
    "import numpy as np"
   ]
  },
  {
   "cell_type": "code",
   "execution_count": 2,
   "metadata": {},
   "outputs": [],
   "source": [
    "with open('Xids_train.npy', 'rb')as fp:\n",
    "    Xids = np.load(fp)\n",
    "\n",
    "with open('Xmask_train.npy', 'rb')as fp:\n",
    "    Xmask = np.load(fp)\n",
    "\n",
    "with open('Labels_train.npy', 'rb')as fp:\n",
    "    labels = np.load(fp)"
   ]
  },
  {
   "cell_type": "code",
   "execution_count": 3,
   "metadata": {},
   "outputs": [
    {
     "data": {
      "text/plain": [
       "(9267, 512)"
      ]
     },
     "execution_count": 3,
     "metadata": {},
     "output_type": "execute_result"
    }
   ],
   "source": [
    "Xids.shape"
   ]
  },
  {
   "cell_type": "code",
   "execution_count": 4,
   "metadata": {},
   "outputs": [
    {
     "data": {
      "text/plain": [
       "(9267, 5)"
      ]
     },
     "execution_count": 4,
     "metadata": {},
     "output_type": "execute_result"
    }
   ],
   "source": [
    "labels.shape"
   ]
  },
  {
   "cell_type": "code",
   "execution_count": 5,
   "metadata": {},
   "outputs": [
    {
     "data": {
      "text/plain": [
       "[PhysicalDevice(name='/physical_device:GPU:0', device_type='GPU')]"
      ]
     },
     "execution_count": 5,
     "metadata": {},
     "output_type": "execute_result"
    }
   ],
   "source": [
    "import tensorflow as tf \n",
    "tf.config.experimental.list_physical_devices('GPU')"
   ]
  },
  {
   "cell_type": "code",
   "execution_count": 6,
   "metadata": {},
   "outputs": [],
   "source": [
    "dataset = tf.data.Dataset.from_tensor_slices((Xids, Xmask, labels))"
   ]
  },
  {
   "cell_type": "code",
   "execution_count": 7,
   "metadata": {},
   "outputs": [],
   "source": [
    "def map_func(input_ids, mask, labels):\n",
    "    return {'input_ids': input_ids, 'attention_mask': mask}, labels"
   ]
  },
  {
   "cell_type": "code",
   "execution_count": 8,
   "metadata": {},
   "outputs": [],
   "source": [
    "dataset = dataset.map(map_func)"
   ]
  },
  {
   "cell_type": "code",
   "execution_count": 9,
   "metadata": {},
   "outputs": [],
   "source": [
    "dataset = dataset.shuffle(100000).batch(32)"
   ]
  },
  {
   "cell_type": "code",
   "execution_count": 10,
   "metadata": {},
   "outputs": [],
   "source": [
    "SEQ_LEN = 512\n",
    "NUM_CLASS = 5"
   ]
  },
  {
   "cell_type": "code",
   "execution_count": 11,
   "metadata": {},
   "outputs": [
    {
     "data": {
      "text/plain": [
       "290"
      ]
     },
     "execution_count": 11,
     "metadata": {},
     "output_type": "execute_result"
    }
   ],
   "source": [
    "DS_LEN = len(list(dataset))\n",
    "DS_LEN"
   ]
  },
  {
   "cell_type": "code",
   "execution_count": 12,
   "metadata": {},
   "outputs": [],
   "source": [
    "SPLIT = .8\n",
    "train = dataset.take(round(DS_LEN*SPLIT))\n",
    "val = dataset.skip(round(DS_LEN*SPLIT))"
   ]
  },
  {
   "cell_type": "code",
   "execution_count": 13,
   "metadata": {},
   "outputs": [
    {
     "data": {
      "text/plain": [
       "<SkipDataset element_spec=({'input_ids': TensorSpec(shape=(None, 512), dtype=tf.float64, name=None), 'attention_mask': TensorSpec(shape=(None, 512), dtype=tf.float64, name=None)}, TensorSpec(shape=(None, 5), dtype=tf.float64, name=None))>"
      ]
     },
     "execution_count": 13,
     "metadata": {},
     "output_type": "execute_result"
    }
   ],
   "source": [
    "val"
   ]
  },
  {
   "cell_type": "code",
   "execution_count": 14,
   "metadata": {},
   "outputs": [],
   "source": [
    "del dataset"
   ]
  },
  {
   "cell_type": "code",
   "execution_count": 15,
   "metadata": {},
   "outputs": [],
   "source": [
    "del Xids\n",
    "del Xmask\n",
    "del labels"
   ]
  },
  {
   "cell_type": "code",
   "execution_count": 16,
   "metadata": {},
   "outputs": [
    {
     "name": "stderr",
     "output_type": "stream",
     "text": [
      "e:\\python_enviroments\\envs\\nlpenv\\lib\\site-packages\\tqdm\\auto.py:21: TqdmWarning: IProgress not found. Please update jupyter and ipywidgets. See https://ipywidgets.readthedocs.io/en/stable/user_install.html\n",
      "  from .autonotebook import tqdm as notebook_tqdm\n"
     ]
    }
   ],
   "source": [
    "from transformers import TFAutoModel"
   ]
  },
  {
   "cell_type": "code",
   "execution_count": 17,
   "metadata": {},
   "outputs": [
    {
     "name": "stderr",
     "output_type": "stream",
     "text": [
      "Downloading model.safetensors: 100%|██████████| 714M/714M [00:08<00:00, 86.0MB/s] \n",
      "e:\\python_enviroments\\envs\\nlpenv\\lib\\site-packages\\huggingface_hub\\file_download.py:133: UserWarning: `huggingface_hub` cache-system uses symlinks by default to efficiently store duplicated files but your machine does not support them in C:\\Users\\kenny\\.cache\\huggingface\\hub. Caching files will still work but in a degraded version that might require more space on your disk. This warning can be disabled by setting the `HF_HUB_DISABLE_SYMLINKS_WARNING` environment variable. For more details, see https://huggingface.co/docs/huggingface_hub/how-to-cache#limitations.\n",
      "To support symlinks on Windows, you either need to activate Developer Mode or to run Python as an administrator. In order to see activate developer mode, see this article: https://docs.microsoft.com/en-us/windows/apps/get-started/enable-your-device-for-development\n",
      "  warnings.warn(message)\n",
      "Some weights of the PyTorch model were not used when initializing the TF 2.0 model TFBertModel: ['cls.seq_relationship.weight', 'cls.seq_relationship.bias', 'cls.predictions.transform.dense.weight', 'cls.predictions.transform.dense.bias', 'cls.predictions.transform.LayerNorm.bias', 'cls.predictions.bias', 'cls.predictions.transform.LayerNorm.weight']\n",
      "- This IS expected if you are initializing TFBertModel from a PyTorch model trained on another task or with another architecture (e.g. initializing a TFBertForSequenceClassification model from a BertForPreTraining model).\n",
      "- This IS NOT expected if you are initializing TFBertModel from a PyTorch model that you expect to be exactly identical (e.g. initializing a TFBertForSequenceClassification model from a BertForSequenceClassification model).\n",
      "All the weights of TFBertModel were initialized from the PyTorch model.\n",
      "If your task is similar to the task the model of the checkpoint was trained on, you can already use TFBertModel for predictions without further training.\n"
     ]
    }
   ],
   "source": [
    "# bert = TFAutoModel.from_pretrained('bert-base-cased')\n",
    "bert = TFAutoModel.from_pretrained(\"bert-base-multilingual-cased\")"
   ]
  },
  {
   "cell_type": "code",
   "execution_count": 18,
   "metadata": {},
   "outputs": [],
   "source": [
    "NUM_CLASSES = 5"
   ]
  },
  {
   "cell_type": "code",
   "execution_count": 19,
   "metadata": {},
   "outputs": [],
   "source": [
    "input_ids = tf.keras.layers.Input(shape= (SEQ_LEN, ), name= 'input_ids', dtype= 'int32')\n",
    "mask = tf.keras.layers.Input(shape= (SEQ_LEN, ), name= 'attention_mask', dtype= 'int32')\n",
    "embeddings = bert(input_ids, attention_mask= mask)[0]\n",
    "\n",
    "# X = tf.keras.layers.GlobalMaxPool1D()(embeddings)\n",
    "\n",
    "reshaped_embeddings = tf.keras.layers.Reshape((2, -1))(embeddings)\n",
    "X = tf.keras.layers.GlobalMaxPool1D()(reshaped_embeddings)\n",
    "X = tf.keras.layers.BatchNormalization()(X)\n",
    "X = tf.keras.layers.Dense(64, activation='relu')(X)\n",
    "y= tf.keras.layers.Dense(5, activation='softmax', name= 'outputs')(X)\n",
    "\n",
    "model = tf.keras.Model(inputs = [input_ids, mask], outputs = y)\n",
    "\n",
    "model.layers[2].trainable = False"
   ]
  },
  {
   "cell_type": "code",
   "execution_count": 20,
   "metadata": {},
   "outputs": [
    {
     "name": "stdout",
     "output_type": "stream",
     "text": [
      "Model: \"model\"\n",
      "__________________________________________________________________________________________________\n",
      " Layer (type)                   Output Shape         Param #     Connected to                     \n",
      "==================================================================================================\n",
      " input_ids (InputLayer)         [(None, 512)]        0           []                               \n",
      "                                                                                                  \n",
      " attention_mask (InputLayer)    [(None, 512)]        0           []                               \n",
      "                                                                                                  \n",
      " tf_bert_model (TFBertModel)    TFBaseModelOutputWi  177853440   ['input_ids[0][0]',              \n",
      "                                thPoolingAndCrossAt               'attention_mask[0][0]']         \n",
      "                                tentions(last_hidde                                               \n",
      "                                n_state=(None, 512,                                               \n",
      "                                 768),                                                            \n",
      "                                 pooler_output=(Non                                               \n",
      "                                e, 768),                                                          \n",
      "                                 past_key_values=No                                               \n",
      "                                ne, hidden_states=N                                               \n",
      "                                one, attentions=Non                                               \n",
      "                                e, cross_attentions                                               \n",
      "                                =None)                                                            \n",
      "                                                                                                  \n",
      " reshape (Reshape)              (None, 2, 196608)    0           ['tf_bert_model[0][0]']          \n",
      "                                                                                                  \n",
      " global_max_pooling1d (GlobalMa  (None, 196608)      0           ['reshape[0][0]']                \n",
      " xPooling1D)                                                                                      \n",
      "                                                                                                  \n",
      " batch_normalization (BatchNorm  (None, 196608)      786432      ['global_max_pooling1d[0][0]']   \n",
      " alization)                                                                                       \n",
      "                                                                                                  \n",
      " dense (Dense)                  (None, 64)           12582976    ['batch_normalization[0][0]']    \n",
      "                                                                                                  \n",
      " outputs (Dense)                (None, 5)            325         ['dense[0][0]']                  \n",
      "                                                                                                  \n",
      "==================================================================================================\n",
      "Total params: 191,223,173\n",
      "Trainable params: 12,976,517\n",
      "Non-trainable params: 178,246,656\n",
      "__________________________________________________________________________________________________\n"
     ]
    }
   ],
   "source": [
    "model.summary()"
   ]
  },
  {
   "cell_type": "code",
   "execution_count": 21,
   "metadata": {},
   "outputs": [],
   "source": [
    "optimizer = tf.keras.optimizers.Adam(0.01)\n",
    "loss = tf.keras.losses.CategoricalCrossentropy()\n",
    "acc = tf.keras.metrics.CategoricalAccuracy('accuracy')\n",
    "\n",
    "model.compile(optimizer = optimizer, loss = loss, metrics= [acc])"
   ]
  },
  {
   "cell_type": "code",
   "execution_count": 22,
   "metadata": {},
   "outputs": [
    {
     "data": {
      "text/plain": [
       "[PhysicalDevice(name='/physical_device:GPU:0', device_type='GPU')]"
      ]
     },
     "execution_count": 22,
     "metadata": {},
     "output_type": "execute_result"
    }
   ],
   "source": [
    "tf.config.experimental.list_physical_devices('GPU')"
   ]
  },
  {
   "cell_type": "code",
   "execution_count": 23,
   "metadata": {},
   "outputs": [],
   "source": [
    "callbacks = [\n",
    "    tf.keras.callbacks.EarlyStopping(patience=10, restore_best_weights=True),\n",
    "    tf.keras.callbacks.ModelCheckpoint(filepath= 'Xception.h5')] #setting up early stopping"
   ]
  },
  {
   "cell_type": "code",
   "execution_count": 24,
   "metadata": {},
   "outputs": [
    {
     "name": "stdout",
     "output_type": "stream",
     "text": [
      "Epoch 1/15\n",
      "232/232 [==============================] - 277s 1s/step - loss: 28.1023 - accuracy: 0.8264 - val_loss: 0.7340 - val_accuracy: 0.9240\n",
      "Epoch 2/15\n",
      "232/232 [==============================] - 265s 1s/step - loss: 1.0714 - accuracy: 0.8947 - val_loss: 0.2730 - val_accuracy: 0.9409\n",
      "Epoch 3/15\n",
      "232/232 [==============================] - 264s 1s/step - loss: 0.5323 - accuracy: 0.8882 - val_loss: 0.3024 - val_accuracy: 0.9224\n",
      "Epoch 4/15\n",
      "232/232 [==============================] - 258s 1s/step - loss: 0.4983 - accuracy: 0.8835 - val_loss: 0.6730 - val_accuracy: 0.9208\n",
      "Epoch 5/15\n",
      "232/232 [==============================] - 259s 1s/step - loss: 0.5733 - accuracy: 0.8900 - val_loss: 0.5305 - val_accuracy: 0.9012\n",
      "Epoch 6/15\n",
      "232/232 [==============================] - 425s 2s/step - loss: 0.6424 - accuracy: 0.8517 - val_loss: 0.6266 - val_accuracy: 0.8904\n",
      "Epoch 7/15\n",
      "232/232 [==============================] - 264s 1s/step - loss: 0.8758 - accuracy: 0.8105 - val_loss: 0.4476 - val_accuracy: 0.8638\n",
      "Epoch 8/15\n",
      "232/232 [==============================] - 262s 1s/step - loss: 0.5922 - accuracy: 0.8032 - val_loss: 0.4066 - val_accuracy: 0.8551\n",
      "Epoch 9/15\n",
      "232/232 [==============================] - 265s 1s/step - loss: 0.6096 - accuracy: 0.8128 - val_loss: 0.3838 - val_accuracy: 0.8953\n",
      "Epoch 10/15\n",
      "232/232 [==============================] - 264s 1s/step - loss: 0.5238 - accuracy: 0.8141 - val_loss: 0.4036 - val_accuracy: 0.8698\n",
      "Epoch 11/15\n",
      "232/232 [==============================] - 264s 1s/step - loss: 0.7374 - accuracy: 0.7678 - val_loss: 0.5120 - val_accuracy: 0.8068\n",
      "Epoch 12/15\n",
      "232/232 [==============================] - 266s 1s/step - loss: 0.7117 - accuracy: 0.7326 - val_loss: 0.5156 - val_accuracy: 0.7249\n"
     ]
    },
    {
     "data": {
      "text/plain": [
       "<keras.callbacks.History at 0x153846ce5f0>"
      ]
     },
     "execution_count": 24,
     "metadata": {},
     "output_type": "execute_result"
    }
   ],
   "source": [
    "model.fit(\n",
    "    train, validation_data= val, epochs=15, batch_size=32,callbacks=callbacks,\n",
    ")"
   ]
  },
  {
   "cell_type": "code",
   "execution_count": 25,
   "metadata": {},
   "outputs": [],
   "source": [
    "import os\n",
    "filename= 'bert_model_512_v3.h5'\n",
    "\n",
    "# Delete the file if it already exists\n",
    "if os.path.exists(filename):\n",
    "    os.remove(filename)\n",
    "# Save the model\n",
    "model.save(filename)"
   ]
  },
  {
   "cell_type": "markdown",
   "metadata": {},
   "source": [
    "# validating and getting metrics"
   ]
  },
  {
   "cell_type": "code",
   "execution_count": 26,
   "metadata": {},
   "outputs": [],
   "source": [
    "import pandas as pd"
   ]
  },
  {
   "cell_type": "code",
   "execution_count": 27,
   "metadata": {},
   "outputs": [
    {
     "data": {
      "text/html": [
       "<div>\n",
       "<style scoped>\n",
       "    .dataframe tbody tr th:only-of-type {\n",
       "        vertical-align: middle;\n",
       "    }\n",
       "\n",
       "    .dataframe tbody tr th {\n",
       "        vertical-align: top;\n",
       "    }\n",
       "\n",
       "    .dataframe thead th {\n",
       "        text-align: right;\n",
       "    }\n",
       "</style>\n",
       "<table border=\"1\" class=\"dataframe\">\n",
       "  <thead>\n",
       "    <tr style=\"text-align: right;\">\n",
       "      <th></th>\n",
       "      <th>text</th>\n",
       "      <th>category</th>\n",
       "    </tr>\n",
       "  </thead>\n",
       "  <tbody>\n",
       "    <tr>\n",
       "      <th>0</th>\n",
       "      <td>¡ Hola ! Soy Ghita_Guerssel marroqui de fez , ...</td>\n",
       "      <td>A1</td>\n",
       "    </tr>\n",
       "    <tr>\n",
       "      <th>1</th>\n",
       "      <td>Hola Manuela , Tengo un_poco de tiempo libre y...</td>\n",
       "      <td>A1</td>\n",
       "    </tr>\n",
       "    <tr>\n",
       "      <th>2</th>\n",
       "      <td>Buenas días , Soy Tara , una visitante de los ...</td>\n",
       "      <td>A2</td>\n",
       "    </tr>\n",
       "    <tr>\n",
       "      <th>3</th>\n",
       "      <td>Me llamo Federico estoy escribiendo esté a la ...</td>\n",
       "      <td>C1</td>\n",
       "    </tr>\n",
       "    <tr>\n",
       "      <th>4</th>\n",
       "      <td>Buenos dias , Por_favor , quiero reservar una ...</td>\n",
       "      <td>A2</td>\n",
       "    </tr>\n",
       "    <tr>\n",
       "      <th>...</th>\n",
       "      <td>...</td>\n",
       "      <td>...</td>\n",
       "    </tr>\n",
       "    <tr>\n",
       "      <th>2891</th>\n",
       "      <td>Hola qué tal ? Soy soltero , tengo 7 hermanos ...</td>\n",
       "      <td>A1</td>\n",
       "    </tr>\n",
       "    <tr>\n",
       "      <th>2892</th>\n",
       "      <td>Próhibo fumar en lugares públicos , es para mí...</td>\n",
       "      <td>B2</td>\n",
       "    </tr>\n",
       "    <tr>\n",
       "      <th>2893</th>\n",
       "      <td>¡ Hola ! Me llamo Mustapha . Mi familia es gra...</td>\n",
       "      <td>A1</td>\n",
       "    </tr>\n",
       "    <tr>\n",
       "      <th>2894</th>\n",
       "      <td>Soy Sarah de Oran , quiero reservar una habita...</td>\n",
       "      <td>A2</td>\n",
       "    </tr>\n",
       "    <tr>\n",
       "      <th>2895</th>\n",
       "      <td>Muy senores mios : les saludio atentamente . F...</td>\n",
       "      <td>C1</td>\n",
       "    </tr>\n",
       "  </tbody>\n",
       "</table>\n",
       "<p>2896 rows × 2 columns</p>\n",
       "</div>"
      ],
      "text/plain": [
       "                                                   text category\n",
       "0     ¡ Hola ! Soy Ghita_Guerssel marroqui de fez , ...       A1\n",
       "1     Hola Manuela , Tengo un_poco de tiempo libre y...       A1\n",
       "2     Buenas días , Soy Tara , una visitante de los ...       A2\n",
       "3     Me llamo Federico estoy escribiendo esté a la ...       C1\n",
       "4     Buenos dias , Por_favor , quiero reservar una ...       A2\n",
       "...                                                 ...      ...\n",
       "2891  Hola qué tal ? Soy soltero , tengo 7 hermanos ...       A1\n",
       "2892  Próhibo fumar en lugares públicos , es para mí...       B2\n",
       "2893  ¡ Hola ! Me llamo Mustapha . Mi familia es gra...       A1\n",
       "2894  Soy Sarah de Oran , quiero reservar una habita...       A2\n",
       "2895  Muy senores mios : les saludio atentamente . F...       C1\n",
       "\n",
       "[2896 rows x 2 columns]"
      ]
     },
     "execution_count": 27,
     "metadata": {},
     "output_type": "execute_result"
    }
   ],
   "source": [
    "# Specify the file path where you want to save the CSV file\n",
    "file_path = 'val_data.csv'\n",
    "loaded_df = pd.read_csv(file_path)\n",
    "loaded_df"
   ]
  },
  {
   "cell_type": "code",
   "execution_count": 28,
   "metadata": {},
   "outputs": [],
   "source": [
    "from transformers import AutoTokenizer\n",
    "\n",
    "#2847 Iis the max lenght of the texts\n",
    "SEQ_LEN = 512\n",
    "\n",
    "#i chose bert-base-cased because for me it's important to recognize the capital letters \n",
    "# in the text to identify the language level\n",
    "tokenizer = AutoTokenizer.from_pretrained(\"dccuchile/bert-base-spanish-wwm-cased\")"
   ]
  },
  {
   "cell_type": "code",
   "execution_count": 29,
   "metadata": {},
   "outputs": [],
   "source": [
    "Xids = []\n",
    "Xmask = []"
   ]
  },
  {
   "cell_type": "code",
   "execution_count": 30,
   "metadata": {},
   "outputs": [],
   "source": [
    "import numpy as np\n",
    "\n",
    "Xids= np.zeros((len(loaded_df), SEQ_LEN))\n",
    "Xmask= np.zeros((len(loaded_df), SEQ_LEN))"
   ]
  },
  {
   "cell_type": "code",
   "execution_count": 31,
   "metadata": {},
   "outputs": [],
   "source": [
    "#casting text to String\n",
    "loaded_df['text'] = loaded_df['text'].astype(str)"
   ]
  },
  {
   "cell_type": "code",
   "execution_count": 32,
   "metadata": {},
   "outputs": [],
   "source": [
    "#checking type\n",
    "for i, sequence in enumerate(loaded_df['text']):\n",
    "    if not isinstance(sequence, str):\n",
    "        print(f\"Warning: 'text' at index {i} is not a string: {sequence}\")"
   ]
  },
  {
   "cell_type": "code",
   "execution_count": 33,
   "metadata": {},
   "outputs": [],
   "source": [
    "for i, sequence in enumerate(loaded_df['text']):\n",
    "    encoded_token = tokenizer.encode_plus(\n",
    "        sequence, \n",
    "        max_length= SEQ_LEN, \n",
    "        truncation= True, \n",
    "        padding= \"max_length\",\n",
    "        add_special_tokens = True,\n",
    "        return_token_type_ids = False,\n",
    "        return_attention_mask = True,\n",
    "        return_tensors = 'tf'\n",
    "    )\n",
    "    Xids[i,:], Xmask[i,:] = encoded_token['input_ids'],encoded_token['attention_mask']"
   ]
  },
  {
   "cell_type": "code",
   "execution_count": 34,
   "metadata": {},
   "outputs": [
    {
     "name": "stdout",
     "output_type": "stream",
     "text": [
      "     category  numerical_category\n",
      "0          A1                   0\n",
      "1          A1                   0\n",
      "2          A2                   1\n",
      "3          C1                   4\n",
      "4          A2                   1\n",
      "...       ...                 ...\n",
      "2891       A1                   0\n",
      "2892       B2                   3\n",
      "2893       A1                   0\n",
      "2894       A2                   1\n",
      "2895       C1                   4\n",
      "\n",
      "[2896 rows x 2 columns]\n"
     ]
    }
   ],
   "source": [
    "from sklearn.preprocessing import LabelEncoder\n",
    "\n",
    "# Create a LabelEncoder instance\n",
    "label_encoder = LabelEncoder()\n",
    "\n",
    "# Fit the encoder to the unique category strings and transform the 'category' column\n",
    "loaded_df['numerical_category'] = label_encoder.fit_transform(loaded_df['category'])\n",
    "\n",
    "# Display the DataFrame with the new 'numerical_category' column\n",
    "print(loaded_df[['category', 'numerical_category']])\n"
   ]
  },
  {
   "cell_type": "code",
   "execution_count": 35,
   "metadata": {},
   "outputs": [
    {
     "data": {
      "text/plain": [
       "2896"
      ]
     },
     "execution_count": 35,
     "metadata": {},
     "output_type": "execute_result"
    }
   ],
   "source": [
    "arr = loaded_df['numerical_category'].values\n",
    "arr.size"
   ]
  },
  {
   "cell_type": "code",
   "execution_count": 36,
   "metadata": {},
   "outputs": [
    {
     "data": {
      "text/plain": [
       "(2896, 5)"
      ]
     },
     "execution_count": 36,
     "metadata": {},
     "output_type": "execute_result"
    }
   ],
   "source": [
    "labels = np.zeros((arr.size, arr.max()+1))\n",
    "labels.shape"
   ]
  },
  {
   "cell_type": "code",
   "execution_count": 37,
   "metadata": {},
   "outputs": [
    {
     "data": {
      "text/plain": [
       "array([[1., 0., 0., 0., 0.],\n",
       "       [1., 0., 0., 0., 0.],\n",
       "       [0., 1., 0., 0., 0.],\n",
       "       ...,\n",
       "       [1., 0., 0., 0., 0.],\n",
       "       [0., 1., 0., 0., 0.],\n",
       "       [0., 0., 0., 0., 1.]])"
      ]
     },
     "execution_count": 37,
     "metadata": {},
     "output_type": "execute_result"
    }
   ],
   "source": [
    "labels[np.arange(arr.size), arr] = 1\n",
    "labels"
   ]
  },
  {
   "cell_type": "code",
   "execution_count": 38,
   "metadata": {},
   "outputs": [
    {
     "name": "stdout",
     "output_type": "stream",
     "text": [
      "91/91 [==============================] - 71s 740ms/step\n"
     ]
    },
    {
     "data": {
      "text/plain": [
       "array([[0.16364847, 0.23590268, 0.14266032, 0.08274723, 0.37504134],\n",
       "       [0.16364847, 0.23590268, 0.14266032, 0.08274723, 0.37504134],\n",
       "       [0.16364847, 0.23590268, 0.14266032, 0.08274723, 0.37504134],\n",
       "       ...,\n",
       "       [0.16364847, 0.23590268, 0.14266032, 0.08274723, 0.37504134],\n",
       "       [0.16364847, 0.23590268, 0.14266032, 0.08274723, 0.37504134],\n",
       "       [0.16364847, 0.23590268, 0.14266032, 0.08274723, 0.37504134]],\n",
       "      dtype=float32)"
      ]
     },
     "execution_count": 38,
     "metadata": {},
     "output_type": "execute_result"
    }
   ],
   "source": [
    "saved_predictions = model.predict({'input_ids': Xids, 'attention_mask' : Xmask})\n",
    "saved_predictions"
   ]
  },
  {
   "cell_type": "code",
   "execution_count": 39,
   "metadata": {},
   "outputs": [
    {
     "data": {
      "text/plain": [
       "array([4, 4, 4, ..., 4, 4, 4], dtype=int64)"
      ]
     },
     "execution_count": 39,
     "metadata": {},
     "output_type": "execute_result"
    }
   ],
   "source": [
    "import numpy as np\n",
    "\n",
    "# Assuming predictions is the array you provided\n",
    "predictions = np.array(saved_predictions)\n",
    "\n",
    "# Get the class label or index with the highest probability\n",
    "predicted_class = np.argmax(predictions, axis=1)\n",
    "\n",
    "# Assuming you have a list of class labels\n",
    "class_labels = [\"A1\", \"A2\", \"B1\", \"B2\", \"C1\"]\n",
    "predicted_class\n"
   ]
  },
  {
   "cell_type": "code",
   "execution_count": 40,
   "metadata": {},
   "outputs": [
    {
     "data": {
      "text/plain": [
       "array([0, 0, 1, ..., 0, 1, 4], dtype=int64)"
      ]
     },
     "execution_count": 40,
     "metadata": {},
     "output_type": "execute_result"
    }
   ],
   "source": [
    "# Get the class label or index with the highest probability\n",
    "true_labels = np.argmax(labels, axis=1)\n",
    "true_labels"
   ]
  },
  {
   "cell_type": "code",
   "execution_count": 41,
   "metadata": {},
   "outputs": [
    {
     "data": {
      "image/png": "[encoded data removed]",
      "text/plain": [
       "<Figure size 640x480 with 2 Axes>"
      ]
     },
     "metadata": {},
     "output_type": "display_data"
    }
   ],
   "source": [
    "import numpy as np\n",
    "from sklearn.metrics import confusion_matrix\n",
    "import matplotlib.pyplot as plt\n",
    "\n",
    "# Compute confusion matrix\n",
    "cm = confusion_matrix(true_labels, predicted_class)\n",
    "\n",
    "# Display confusion matrix as a table\n",
    "fig, ax = plt.subplots()\n",
    "im = ax.imshow(cm, cmap='Blues')\n",
    "\n",
    "# Customize the plot\n",
    "ax.set_xticks(np.arange(cm.shape[1]))\n",
    "ax.set_yticks(np.arange(cm.shape[0]))\n",
    "ax.set_xticklabels(['A1', 'A2', 'B1','B2', 'C1'])\n",
    "ax.set_yticklabels(['A1', 'A2', 'B1','B2', 'C1'])\n",
    "plt.xlabel(\"original\")\n",
    "plt.ylabel(\"predicted\")\n",
    "\n",
    "# Add values inside the confusion matrix cells\n",
    "for i in range(cm.shape[0]):\n",
    "    for j in range(cm.shape[1]):\n",
    "        color = 'white' if cm[i, j] > cm.max() / 2 else 'black'  # Set font color based on the cell value\n",
    "        ax.text(j, i, cm[i, j], ha=\"center\", va=\"center\", color=color)\n",
    "\n",
    "plt.title(\"Confusion Matrix\")\n",
    "plt.colorbar(im)\n",
    "plt.show()"
   ]
  },
  {
   "cell_type": "code",
   "execution_count": 42,
   "metadata": {},
   "outputs": [
    {
     "name": "stdout",
     "output_type": "stream",
     "text": [
      "Precision: 0.03910034602076125\n",
      "Recall: 0.2\n",
      "F1-score: 0.06541244573082489\n"
     ]
    },
    {
     "name": "stderr",
     "output_type": "stream",
     "text": [
      "e:\\python_enviroments\\envs\\nlpenv\\lib\\site-packages\\sklearn\\metrics\\_classification.py:1469: UndefinedMetricWarning: Precision is ill-defined and being set to 0.0 in labels with no predicted samples. Use `zero_division` parameter to control this behavior.\n",
      "  _warn_prf(average, modifier, msg_start, len(result))\n"
     ]
    }
   ],
   "source": [
    "from sklearn.metrics import precision_score, recall_score, f1_score\n",
    "\n",
    "# Compute precision, recall, and F1-score\n",
    "precision = precision_score(true_labels, predicted_class, average='macro')\n",
    "recall = recall_score(true_labels, predicted_class, average='macro')\n",
    "f1 = f1_score(true_labels, predicted_class, average='macro')\n",
    "\n",
    "# Print the metrics\n",
    "print(\"Precision:\", precision)\n",
    "print(\"Recall:\", recall)\n",
    "print(\"F1-score:\", f1)"
   ]
  },
  {
   "cell_type": "code",
   "execution_count": 43,
   "metadata": {},
   "outputs": [
    {
     "name": "stdout",
     "output_type": "stream",
     "text": [
      "              precision    recall  f1-score   support\n",
      "\n",
      "           0       0.00      0.00      0.00       599\n",
      "           1       0.00      0.00      0.00       566\n",
      "           2       0.00      0.00      0.00       607\n",
      "           3       0.00      0.00      0.00       559\n",
      "           4       0.20      1.00      0.33       565\n",
      "\n",
      "    accuracy                           0.20      2896\n",
      "   macro avg       0.04      0.20      0.07      2896\n",
      "weighted avg       0.04      0.20      0.06      2896\n",
      "\n"
     ]
    },
    {
     "name": "stderr",
     "output_type": "stream",
     "text": [
      "e:\\python_enviroments\\envs\\nlpenv\\lib\\site-packages\\sklearn\\metrics\\_classification.py:1469: UndefinedMetricWarning: Precision and F-score are ill-defined and being set to 0.0 in labels with no predicted samples. Use `zero_division` parameter to control this behavior.\n",
      "  _warn_prf(average, modifier, msg_start, len(result))\n",
      "e:\\python_enviroments\\envs\\nlpenv\\lib\\site-packages\\sklearn\\metrics\\_classification.py:1469: UndefinedMetricWarning: Precision and F-score are ill-defined and being set to 0.0 in labels with no predicted samples. Use `zero_division` parameter to control this behavior.\n",
      "  _warn_prf(average, modifier, msg_start, len(result))\n",
      "e:\\python_enviroments\\envs\\nlpenv\\lib\\site-packages\\sklearn\\metrics\\_classification.py:1469: UndefinedMetricWarning: Precision and F-score are ill-defined and being set to 0.0 in labels with no predicted samples. Use `zero_division` parameter to control this behavior.\n",
      "  _warn_prf(average, modifier, msg_start, len(result))\n"
     ]
    }
   ],
   "source": [
    "from sklearn.metrics import classification_report\n",
    "\n",
    "# Get the class with the highest probability as the predicted class\n",
    "predicted_classes = [np.argmax(pred) for pred in predictions]\n",
    "\n",
    "# Generate the classification report\n",
    "report = classification_report(true_labels, predicted_classes)\n",
    "\n",
    "# Print the classification report\n",
    "print(report)\n"
   ]
  },
  {
   "cell_type": "code",
   "execution_count": 44,
   "metadata": {},
   "outputs": [
    {
     "data": {
      "text/plain": [
       "{'status': 'ok', 'restart': True}"
      ]
     },
     "execution_count": 44,
     "metadata": {},
     "output_type": "execute_result"
    },
    {
     "ename": "",
     "evalue": "",
     "output_type": "error",
     "traceback": [
      "\u001b[1;31mThe Kernel crashed while executing code in the the current cell or a previous cell. Please review the code in the cell(s) to identify a possible cause of the failure. Click <a href='https://aka.ms/vscodeJupyterKernelCrash'>here</a> for more info. View Jupyter <a href='command:jupyter.viewOutput'>log</a> for further details."
     ]
    }
   ],
   "source": [
    "# kill kernel\n",
    "\n",
    "import IPython\n",
    "app = IPython.Application.instance()\n",
    "app.kernel.do_shutdown(True)"
   ]
  }
 ],
 "metadata": {
  "kernelspec": {
   "display_name": "nlpenv",
   "language": "python",
   "name": "python3"
  },
  "language_info": {
   "codemirror_mode": {
    "name": "ipython",
    "version": 3
   },
   "file_extension": ".py",
   "mimetype": "text/x-python",
   "name": "python",
   "nbconvert_exporter": "python",
   "pygments_lexer": "ipython3",
   "version": "3.10.10"
  }
 },
 "nbformat": 4,
 "nbformat_minor": 2
}
