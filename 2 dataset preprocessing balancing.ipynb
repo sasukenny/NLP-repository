{
 "cells": [
  {
   "cell_type": "markdown",
   "metadata": {},
   "source": [
    "# Dataset Preprocessing\n",
    "\n",
    "Now let's transform the dataset into the desired dataset.\n",
    "\n",
    "Tasks:\n",
    "- To balance the dataset\n",
    "- To tokenize text\n",
    "- To pad text\n",
    "- To transform categories into numerical categories"
   ]
  },
  {
   "cell_type": "code",
   "execution_count": 1,
   "metadata": {},
   "outputs": [
    {
     "name": "stderr",
     "output_type": "stream",
     "text": [
      "e:\\python_enviroments\\envs\\nlpenv\\lib\\site-packages\\tqdm\\auto.py:21: TqdmWarning: IProgress not found. Please update jupyter and ipywidgets. See https://ipywidgets.readthedocs.io/en/stable/user_install.html\n",
      "  from .autonotebook import tqdm as notebook_tqdm\n"
     ]
    }
   ],
   "source": [
    "from datasets import load_dataset\n",
    "\n",
    "dataset = load_dataset(\"hackathon-pln-es/readability-es-caes\")"
   ]
  },
  {
   "cell_type": "code",
   "execution_count": 2,
   "metadata": {},
   "outputs": [],
   "source": [
    "train_data = dataset[\"train\"]"
   ]
  },
  {
   "cell_type": "code",
   "execution_count": 3,
   "metadata": {},
   "outputs": [
    {
     "data": {
      "text/html": [
       "<div>\n",
       "<style scoped>\n",
       "    .dataframe tbody tr th:only-of-type {\n",
       "        vertical-align: middle;\n",
       "    }\n",
       "\n",
       "    .dataframe tbody tr th {\n",
       "        vertical-align: top;\n",
       "    }\n",
       "\n",
       "    .dataframe thead th {\n",
       "        text-align: right;\n",
       "    }\n",
       "</style>\n",
       "<table border=\"1\" class=\"dataframe\">\n",
       "  <thead>\n",
       "    <tr style=\"text-align: right;\">\n",
       "      <th></th>\n",
       "      <th>category</th>\n",
       "      <th>text</th>\n",
       "      <th>level</th>\n",
       "      <th>level-3</th>\n",
       "    </tr>\n",
       "  </thead>\n",
       "  <tbody>\n",
       "    <tr>\n",
       "      <th>0</th>\n",
       "      <td>B1</td>\n",
       "      <td>Hola Carlos ! Hace mucho que no te veo hombre ...</td>\n",
       "      <td>simple</td>\n",
       "      <td>intermediate</td>\n",
       "    </tr>\n",
       "    <tr>\n",
       "      <th>1</th>\n",
       "      <td>A2</td>\n",
       "      <td>Hola querida Sara , espero que estes muy bien ...</td>\n",
       "      <td>simple</td>\n",
       "      <td>basic</td>\n",
       "    </tr>\n",
       "    <tr>\n",
       "      <th>2</th>\n",
       "      <td>A1</td>\n",
       "      <td>Como estais ? ! Hola amigos ! ? Espero que tod...</td>\n",
       "      <td>simple</td>\n",
       "      <td>basic</td>\n",
       "    </tr>\n",
       "    <tr>\n",
       "      <th>3</th>\n",
       "      <td>A2</td>\n",
       "      <td>Cuando llegué a el destino , le propuso que si...</td>\n",
       "      <td>simple</td>\n",
       "      <td>basic</td>\n",
       "    </tr>\n",
       "    <tr>\n",
       "      <th>4</th>\n",
       "      <td>A1</td>\n",
       "      <td>¿ Que tal ? un beso Espero que todo va bien po...</td>\n",
       "      <td>simple</td>\n",
       "      <td>basic</td>\n",
       "    </tr>\n",
       "    <tr>\n",
       "      <th>...</th>\n",
       "      <td>...</td>\n",
       "      <td>...</td>\n",
       "      <td>...</td>\n",
       "      <td>...</td>\n",
       "    </tr>\n",
       "    <tr>\n",
       "      <th>31144</th>\n",
       "      <td>B1</td>\n",
       "      <td>Buenas tardes ! 29_de_mayo_de_2019 salamanca Q...</td>\n",
       "      <td>simple</td>\n",
       "      <td>intermediate</td>\n",
       "    </tr>\n",
       "    <tr>\n",
       "      <th>31145</th>\n",
       "      <td>B2</td>\n",
       "      <td>Tengo la seguridad de mí mismo para contener e...</td>\n",
       "      <td>complex</td>\n",
       "      <td>intermediate</td>\n",
       "    </tr>\n",
       "    <tr>\n",
       "      <th>31146</th>\n",
       "      <td>B1</td>\n",
       "      <td>Distinguidos señor / señra : Hola , gerente . ...</td>\n",
       "      <td>simple</td>\n",
       "      <td>intermediate</td>\n",
       "    </tr>\n",
       "    <tr>\n",
       "      <th>31147</th>\n",
       "      <td>B2</td>\n",
       "      <td>Le escribo esta carta porque me gustaría inmen...</td>\n",
       "      <td>complex</td>\n",
       "      <td>intermediate</td>\n",
       "    </tr>\n",
       "    <tr>\n",
       "      <th>31148</th>\n",
       "      <td>A1</td>\n",
       "      <td>Me gusta ir a Mallorca y me gusta espeicalment...</td>\n",
       "      <td>simple</td>\n",
       "      <td>basic</td>\n",
       "    </tr>\n",
       "  </tbody>\n",
       "</table>\n",
       "<p>31149 rows × 4 columns</p>\n",
       "</div>"
      ],
      "text/plain": [
       "      category                                               text    level  \\\n",
       "0           B1  Hola Carlos ! Hace mucho que no te veo hombre ...   simple   \n",
       "1           A2  Hola querida Sara , espero que estes muy bien ...   simple   \n",
       "2           A1  Como estais ? ! Hola amigos ! ? Espero que tod...   simple   \n",
       "3           A2  Cuando llegué a el destino , le propuso que si...   simple   \n",
       "4           A1  ¿ Que tal ? un beso Espero que todo va bien po...   simple   \n",
       "...        ...                                                ...      ...   \n",
       "31144       B1  Buenas tardes ! 29_de_mayo_de_2019 salamanca Q...   simple   \n",
       "31145       B2  Tengo la seguridad de mí mismo para contener e...  complex   \n",
       "31146       B1  Distinguidos señor / señra : Hola , gerente . ...   simple   \n",
       "31147       B2  Le escribo esta carta porque me gustaría inmen...  complex   \n",
       "31148       A1  Me gusta ir a Mallorca y me gusta espeicalment...   simple   \n",
       "\n",
       "            level-3  \n",
       "0      intermediate  \n",
       "1             basic  \n",
       "2             basic  \n",
       "3             basic  \n",
       "4             basic  \n",
       "...             ...  \n",
       "31144  intermediate  \n",
       "31145  intermediate  \n",
       "31146  intermediate  \n",
       "31147  intermediate  \n",
       "31148         basic  \n",
       "\n",
       "[31149 rows x 4 columns]"
      ]
     },
     "execution_count": 3,
     "metadata": {},
     "output_type": "execute_result"
    }
   ],
   "source": [
    "import pandas as pd\n",
    "df = pd.DataFrame(train_data)\n",
    "df"
   ]
  },
  {
   "cell_type": "markdown",
   "metadata": {},
   "source": [
    "# Filtering"
   ]
  },
  {
   "cell_type": "code",
   "execution_count": 4,
   "metadata": {},
   "outputs": [],
   "source": [
    "#casting text to String\n",
    "df['text'] = df['text'].astype(str)"
   ]
  },
  {
   "cell_type": "code",
   "execution_count": 5,
   "metadata": {},
   "outputs": [],
   "source": [
    "df = df[df['text'].apply(len) < 512]"
   ]
  },
  {
   "cell_type": "code",
   "execution_count": 6,
   "metadata": {},
   "outputs": [
    {
     "data": {
      "text/plain": [
       "(7424, 4)"
      ]
     },
     "execution_count": 6,
     "metadata": {},
     "output_type": "execute_result"
    }
   ],
   "source": [
    "df.shape"
   ]
  },
  {
   "cell_type": "code",
   "execution_count": 7,
   "metadata": {},
   "outputs": [
    {
     "data": {
      "text/plain": [
       "category\n",
       "A1    4476\n",
       "A2    1997\n",
       "B1     787\n",
       "B2     100\n",
       "C1      64\n",
       "Name: count, dtype: int64"
      ]
     },
     "execution_count": 7,
     "metadata": {},
     "output_type": "execute_result"
    }
   ],
   "source": [
    "# Count the number of elements per category\n",
    "category_counts = df[\"category\"].value_counts()\n",
    "category_counts"
   ]
  },
  {
   "cell_type": "code",
   "execution_count": 8,
   "metadata": {},
   "outputs": [
    {
     "data": {
      "text/plain": [
       "category\n",
       "A1    4476\n",
       "A2    1997\n",
       "B1     787\n",
       "B2     100\n",
       "C1      64\n",
       "Name: count, dtype: int64"
      ]
     },
     "execution_count": 8,
     "metadata": {},
     "output_type": "execute_result"
    }
   ],
   "source": [
    "# Count the number of elements per category\n",
    "category_counts = df[\"category\"].value_counts()\n",
    "category_counts"
   ]
  },
  {
   "cell_type": "markdown",
   "metadata": {},
   "source": [
    "# Balancing"
   ]
  },
  {
   "cell_type": "code",
   "execution_count": 10,
   "metadata": {},
   "outputs": [
    {
     "data": {
      "text/html": [
       "<div>\n",
       "<style scoped>\n",
       "    .dataframe tbody tr th:only-of-type {\n",
       "        vertical-align: middle;\n",
       "    }\n",
       "\n",
       "    .dataframe tbody tr th {\n",
       "        vertical-align: top;\n",
       "    }\n",
       "\n",
       "    .dataframe thead th {\n",
       "        text-align: right;\n",
       "    }\n",
       "</style>\n",
       "<table border=\"1\" class=\"dataframe\">\n",
       "  <thead>\n",
       "    <tr style=\"text-align: right;\">\n",
       "      <th></th>\n",
       "      <th>category</th>\n",
       "      <th>text</th>\n",
       "    </tr>\n",
       "  </thead>\n",
       "  <tbody>\n",
       "    <tr>\n",
       "      <th>4</th>\n",
       "      <td>A1</td>\n",
       "      <td>¿ Que tal ? un beso Espero que todo va bien po...</td>\n",
       "    </tr>\n",
       "    <tr>\n",
       "      <th>5</th>\n",
       "      <td>A1</td>\n",
       "      <td>¿ Cómo estas chica ? Había regresado de México...</td>\n",
       "    </tr>\n",
       "    <tr>\n",
       "      <th>9</th>\n",
       "      <td>A1</td>\n",
       "      <td>Mi padres , tengo el español clase , desde las...</td>\n",
       "    </tr>\n",
       "    <tr>\n",
       "      <th>10</th>\n",
       "      <td>A1</td>\n",
       "      <td>¿ Cómo está ? Está muy bine . Ahora vivo en la...</td>\n",
       "    </tr>\n",
       "    <tr>\n",
       "      <th>13</th>\n",
       "      <td>A1</td>\n",
       "      <td>Buenos dias , Me llamo Manon , soy francesa de...</td>\n",
       "    </tr>\n",
       "    <tr>\n",
       "      <th>...</th>\n",
       "      <td>...</td>\n",
       "      <td>...</td>\n",
       "    </tr>\n",
       "    <tr>\n",
       "      <th>31123</th>\n",
       "      <td>A1</td>\n",
       "      <td>¿ que tal ? ¡ hola ! soy ikbal niyya una nueva...</td>\n",
       "    </tr>\n",
       "    <tr>\n",
       "      <th>31124</th>\n",
       "      <td>A2</td>\n",
       "      <td>None</td>\n",
       "    </tr>\n",
       "    <tr>\n",
       "      <th>31130</th>\n",
       "      <td>A2</td>\n",
       "      <td>Hola ! Mis últimas vacaciones estuvieron en in...</td>\n",
       "    </tr>\n",
       "    <tr>\n",
       "      <th>31133</th>\n",
       "      <td>A2</td>\n",
       "      <td>None</td>\n",
       "    </tr>\n",
       "    <tr>\n",
       "      <th>31141</th>\n",
       "      <td>A2</td>\n",
       "      <td>A las 2 almorzo despues la sierta tomo un te m...</td>\n",
       "    </tr>\n",
       "  </tbody>\n",
       "</table>\n",
       "<p>7424 rows × 2 columns</p>\n",
       "</div>"
      ],
      "text/plain": [
       "      category                                               text\n",
       "4           A1  ¿ Que tal ? un beso Espero que todo va bien po...\n",
       "5           A1  ¿ Cómo estas chica ? Había regresado de México...\n",
       "9           A1  Mi padres , tengo el español clase , desde las...\n",
       "10          A1  ¿ Cómo está ? Está muy bine . Ahora vivo en la...\n",
       "13          A1  Buenos dias , Me llamo Manon , soy francesa de...\n",
       "...        ...                                                ...\n",
       "31123       A1  ¿ que tal ? ¡ hola ! soy ikbal niyya una nueva...\n",
       "31124       A2                                               None\n",
       "31130       A2  Hola ! Mis últimas vacaciones estuvieron en in...\n",
       "31133       A2                                               None\n",
       "31141       A2  A las 2 almorzo despues la sierta tomo un te m...\n",
       "\n",
       "[7424 rows x 2 columns]"
      ]
     },
     "execution_count": 10,
     "metadata": {},
     "output_type": "execute_result"
    }
   ],
   "source": [
    "df_cleaned = df[['category', 'text']]\n",
    "df_cleaned"
   ]
  },
  {
   "cell_type": "code",
   "execution_count": 11,
   "metadata": {},
   "outputs": [],
   "source": [
    "from imblearn.over_sampling import RandomOverSampler\n",
    "\n",
    "# Create an oversampler\n",
    "oversampler = RandomOverSampler(sampling_strategy='auto', random_state=42)\n",
    "\n",
    "# Resample the dataset to balance the categories\n",
    "X_resampled, y_resampled = oversampler.fit_resample(df_cleaned.drop(\"category\", axis=1), df_cleaned[\"category\"])\n",
    "\n"
   ]
  },
  {
   "cell_type": "code",
   "execution_count": 12,
   "metadata": {},
   "outputs": [
    {
     "data": {
      "text/html": [
       "<div>\n",
       "<style scoped>\n",
       "    .dataframe tbody tr th:only-of-type {\n",
       "        vertical-align: middle;\n",
       "    }\n",
       "\n",
       "    .dataframe tbody tr th {\n",
       "        vertical-align: top;\n",
       "    }\n",
       "\n",
       "    .dataframe thead th {\n",
       "        text-align: right;\n",
       "    }\n",
       "</style>\n",
       "<table border=\"1\" class=\"dataframe\">\n",
       "  <thead>\n",
       "    <tr style=\"text-align: right;\">\n",
       "      <th></th>\n",
       "      <th>text</th>\n",
       "    </tr>\n",
       "  </thead>\n",
       "  <tbody>\n",
       "    <tr>\n",
       "      <th>0</th>\n",
       "      <td>¿ Que tal ? un beso Espero que todo va bien po...</td>\n",
       "    </tr>\n",
       "    <tr>\n",
       "      <th>1</th>\n",
       "      <td>¿ Cómo estas chica ? Había regresado de México...</td>\n",
       "    </tr>\n",
       "    <tr>\n",
       "      <th>2</th>\n",
       "      <td>Mi padres , tengo el español clase , desde las...</td>\n",
       "    </tr>\n",
       "    <tr>\n",
       "      <th>3</th>\n",
       "      <td>¿ Cómo está ? Está muy bine . Ahora vivo en la...</td>\n",
       "    </tr>\n",
       "    <tr>\n",
       "      <th>4</th>\n",
       "      <td>Buenos dias , Me llamo Manon , soy francesa de...</td>\n",
       "    </tr>\n",
       "    <tr>\n",
       "      <th>...</th>\n",
       "      <td>...</td>\n",
       "    </tr>\n",
       "    <tr>\n",
       "      <th>22375</th>\n",
       "      <td>Abdellatif_Zaki calle_de_los_palmeros,n_70 , O...</td>\n",
       "    </tr>\n",
       "    <tr>\n",
       "      <th>22376</th>\n",
       "      <td>Compaña de gas y electricidad muy sr , mio c,_...</td>\n",
       "    </tr>\n",
       "    <tr>\n",
       "      <th>22377</th>\n",
       "      <td>Estimado senor Sibelgaz , me llamo AH y he rec...</td>\n",
       "    </tr>\n",
       "    <tr>\n",
       "      <th>22378</th>\n",
       "      <td>Muy senores mios : les saludio atentamente . F...</td>\n",
       "    </tr>\n",
       "    <tr>\n",
       "      <th>22379</th>\n",
       "      <td>Compaña de gas y electricidad muy sr , mio c,_...</td>\n",
       "    </tr>\n",
       "  </tbody>\n",
       "</table>\n",
       "<p>22380 rows × 1 columns</p>\n",
       "</div>"
      ],
      "text/plain": [
       "                                                    text\n",
       "0      ¿ Que tal ? un beso Espero que todo va bien po...\n",
       "1      ¿ Cómo estas chica ? Había regresado de México...\n",
       "2      Mi padres , tengo el español clase , desde las...\n",
       "3      ¿ Cómo está ? Está muy bine . Ahora vivo en la...\n",
       "4      Buenos dias , Me llamo Manon , soy francesa de...\n",
       "...                                                  ...\n",
       "22375  Abdellatif_Zaki calle_de_los_palmeros,n_70 , O...\n",
       "22376  Compaña de gas y electricidad muy sr , mio c,_...\n",
       "22377  Estimado senor Sibelgaz , me llamo AH y he rec...\n",
       "22378  Muy senores mios : les saludio atentamente . F...\n",
       "22379  Compaña de gas y electricidad muy sr , mio c,_...\n",
       "\n",
       "[22380 rows x 1 columns]"
      ]
     },
     "execution_count": 12,
     "metadata": {},
     "output_type": "execute_result"
    }
   ],
   "source": [
    "X_resampled"
   ]
  },
  {
   "cell_type": "code",
   "execution_count": 13,
   "metadata": {},
   "outputs": [
    {
     "data": {
      "text/plain": [
       "511"
      ]
     },
     "execution_count": 13,
     "metadata": {},
     "output_type": "execute_result"
    }
   ],
   "source": [
    "max_length = X_resampled['text'].apply(len).max()\n",
    "max_length"
   ]
  },
  {
   "cell_type": "code",
   "execution_count": 14,
   "metadata": {},
   "outputs": [
    {
     "data": {
      "text/plain": [
       "0        A1\n",
       "1        A1\n",
       "2        A1\n",
       "3        A1\n",
       "4        A1\n",
       "         ..\n",
       "22375    C1\n",
       "22376    C1\n",
       "22377    C1\n",
       "22378    C1\n",
       "22379    C1\n",
       "Name: category, Length: 22380, dtype: object"
      ]
     },
     "execution_count": 14,
     "metadata": {},
     "output_type": "execute_result"
    }
   ],
   "source": [
    "y_resampled"
   ]
  },
  {
   "cell_type": "code",
   "execution_count": 15,
   "metadata": {},
   "outputs": [
    {
     "data": {
      "text/plain": [
       "category\n",
       "A1    4476\n",
       "A2    4476\n",
       "B1    4476\n",
       "C1    4476\n",
       "B2    4476\n",
       "Name: count, dtype: int64"
      ]
     },
     "execution_count": 15,
     "metadata": {},
     "output_type": "execute_result"
    }
   ],
   "source": [
    "# Count the number of elements per category\n",
    "category_counts = y_resampled.value_counts()\n",
    "category_counts"
   ]
  },
  {
   "cell_type": "code",
   "execution_count": 16,
   "metadata": {},
   "outputs": [],
   "source": [
    "from sklearn.utils import shuffle\n",
    "\n",
    "# Shuffle your balanced dataset\n",
    "X_resampled, y_resampled = shuffle(X_resampled, y_resampled, random_state=42)\n"
   ]
  },
  {
   "cell_type": "code",
   "execution_count": 17,
   "metadata": {},
   "outputs": [],
   "source": [
    "# Assuming X_resampled and y_resampled contain your shuffled data\n",
    "shuffled_df = pd.DataFrame({'text': X_resampled['text'], 'category': y_resampled})"
   ]
  },
  {
   "cell_type": "code",
   "execution_count": 18,
   "metadata": {},
   "outputs": [],
   "source": [
    "import pandas as pd\n",
    "from sklearn.model_selection import train_test_split\n",
    "\n",
    "# Split the DataFrame into training (80%) and validation (20%) sets\n",
    "train_df, val_df = train_test_split(shuffled_df, test_size=0.2, random_state=42)"
   ]
  },
  {
   "cell_type": "code",
   "execution_count": 19,
   "metadata": {},
   "outputs": [
    {
     "data": {
      "text/plain": [
       "category\n",
       "C1    3640\n",
       "A2    3575\n",
       "B2    3563\n",
       "B1    3563\n",
       "A1    3563\n",
       "Name: count, dtype: int64"
      ]
     },
     "execution_count": 19,
     "metadata": {},
     "output_type": "execute_result"
    }
   ],
   "source": [
    "# Count the number of elements per category\n",
    "train_category_counts = train_df[\"category\"].value_counts()\n",
    "train_category_counts"
   ]
  },
  {
   "cell_type": "code",
   "execution_count": 20,
   "metadata": {},
   "outputs": [
    {
     "data": {
      "text/plain": [
       "category\n",
       "B2    913\n",
       "A1    913\n",
       "B1    913\n",
       "A2    901\n",
       "C1    836\n",
       "Name: count, dtype: int64"
      ]
     },
     "execution_count": 20,
     "metadata": {},
     "output_type": "execute_result"
    }
   ],
   "source": [
    "# Count the number of elements per category\n",
    "val_category_counts = val_df[\"category\"].value_counts()\n",
    "val_category_counts"
   ]
  },
  {
   "cell_type": "code",
   "execution_count": 21,
   "metadata": {},
   "outputs": [],
   "source": [
    "# Save the training and validation DataFrames to separate CSV files\n",
    "train_df.to_csv('train_data.csv', index=False)\n",
    "val_df.to_csv('val_data.csv', index=False)\n"
   ]
  },
  {
   "cell_type": "code",
   "execution_count": 22,
   "metadata": {},
   "outputs": [
    {
     "data": {
      "text/plain": [
       "(17904, 2)"
      ]
     },
     "execution_count": 22,
     "metadata": {},
     "output_type": "execute_result"
    }
   ],
   "source": [
    "train_df.shape"
   ]
  },
  {
   "cell_type": "code",
   "execution_count": 23,
   "metadata": {},
   "outputs": [
    {
     "data": {
      "text/plain": [
       "(4476, 2)"
      ]
     },
     "execution_count": 23,
     "metadata": {},
     "output_type": "execute_result"
    }
   ],
   "source": [
    "val_df.shape"
   ]
  }
 ],
 "metadata": {
  "kernelspec": {
   "display_name": "nlpenv",
   "language": "python",
   "name": "python3"
  },
  "language_info": {
   "codemirror_mode": {
    "name": "ipython",
    "version": 3
   },
   "file_extension": ".py",
   "mimetype": "text/x-python",
   "name": "python",
   "nbconvert_exporter": "python",
   "pygments_lexer": "ipython3",
   "version": "3.10.10"
  },
  "orig_nbformat": 4
 },
 "nbformat": 4,
 "nbformat_minor": 2
}
