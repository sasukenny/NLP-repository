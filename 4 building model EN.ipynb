{
 "cells": [
  {
   "cell_type": "code",
   "execution_count": 1,
   "metadata": {},
   "outputs": [],
   "source": [
    "import numpy as np"
   ]
  },
  {
   "cell_type": "code",
   "execution_count": 2,
   "metadata": {},
   "outputs": [],
   "source": [
    "with open('Xids_train.npy', 'rb')as fp:\n",
    "    Xids = np.load(fp)\n",
    "\n",
    "with open('Xmask_train.npy', 'rb')as fp:\n",
    "    Xmask = np.load(fp)\n",
    "\n",
    "with open('Labels_train.npy', 'rb')as fp:\n",
    "    labels = np.load(fp)"
   ]
  },
  {
   "cell_type": "code",
   "execution_count": 3,
   "metadata": {},
   "outputs": [
    {
     "data": {
      "text/plain": [
       "(14323, 512)"
      ]
     },
     "execution_count": 3,
     "metadata": {},
     "output_type": "execute_result"
    }
   ],
   "source": [
    "Xids.shape"
   ]
  },
  {
   "cell_type": "code",
   "execution_count": 4,
   "metadata": {},
   "outputs": [
    {
     "data": {
      "text/plain": [
       "(14323, 5)"
      ]
     },
     "execution_count": 4,
     "metadata": {},
     "output_type": "execute_result"
    }
   ],
   "source": [
    "labels.shape"
   ]
  },
  {
   "cell_type": "code",
   "execution_count": 5,
   "metadata": {},
   "outputs": [
    {
     "data": {
      "text/plain": [
       "[PhysicalDevice(name='/physical_device:GPU:0', device_type='GPU')]"
      ]
     },
     "execution_count": 5,
     "metadata": {},
     "output_type": "execute_result"
    }
   ],
   "source": [
    "import tensorflow as tf \n",
    "tf.config.experimental.list_physical_devices('GPU')"
   ]
  },
  {
   "cell_type": "code",
   "execution_count": 6,
   "metadata": {},
   "outputs": [],
   "source": [
    "dataset = tf.data.Dataset.from_tensor_slices((Xids, Xmask, labels))"
   ]
  },
  {
   "cell_type": "code",
   "execution_count": 7,
   "metadata": {},
   "outputs": [],
   "source": [
    "def map_func(input_ids, mask, labels):\n",
    "    return {'input_ids': input_ids, 'attention_mask': mask}, labels"
   ]
  },
  {
   "cell_type": "code",
   "execution_count": 8,
   "metadata": {},
   "outputs": [],
   "source": [
    "dataset = dataset.map(map_func)"
   ]
  },
  {
   "cell_type": "code",
   "execution_count": 9,
   "metadata": {},
   "outputs": [],
   "source": [
    "dataset = dataset.shuffle(100000).batch(32)"
   ]
  },
  {
   "cell_type": "code",
   "execution_count": 10,
   "metadata": {},
   "outputs": [],
   "source": [
    "SEQ_LEN = 512\n",
    "NUM_CLASS = 5"
   ]
  },
  {
   "cell_type": "code",
   "execution_count": 11,
   "metadata": {},
   "outputs": [
    {
     "data": {
      "text/plain": [
       "448"
      ]
     },
     "execution_count": 11,
     "metadata": {},
     "output_type": "execute_result"
    }
   ],
   "source": [
    "DS_LEN = len(list(dataset))\n",
    "DS_LEN"
   ]
  },
  {
   "cell_type": "code",
   "execution_count": 12,
   "metadata": {},
   "outputs": [],
   "source": [
    "SPLIT = .8\n",
    "train = dataset.take(round(DS_LEN*SPLIT))\n",
    "val = dataset.skip(round(DS_LEN*SPLIT))"
   ]
  },
  {
   "cell_type": "code",
   "execution_count": 13,
   "metadata": {},
   "outputs": [
    {
     "data": {
      "text/plain": [
       "<SkipDataset element_spec=({'input_ids': TensorSpec(shape=(None, 512), dtype=tf.float64, name=None), 'attention_mask': TensorSpec(shape=(None, 512), dtype=tf.float64, name=None)}, TensorSpec(shape=(None, 5), dtype=tf.float64, name=None))>"
      ]
     },
     "execution_count": 13,
     "metadata": {},
     "output_type": "execute_result"
    }
   ],
   "source": [
    "val"
   ]
  },
  {
   "cell_type": "code",
   "execution_count": 14,
   "metadata": {},
   "outputs": [],
   "source": [
    "del dataset"
   ]
  },
  {
   "cell_type": "code",
   "execution_count": 15,
   "metadata": {},
   "outputs": [],
   "source": [
    "del Xids\n",
    "del Xmask\n",
    "del labels"
   ]
  },
  {
   "cell_type": "code",
   "execution_count": 16,
   "metadata": {},
   "outputs": [
    {
     "name": "stderr",
     "output_type": "stream",
     "text": [
      "e:\\python_enviroments\\envs\\nlpenv\\lib\\site-packages\\tqdm\\auto.py:21: TqdmWarning: IProgress not found. Please update jupyter and ipywidgets. See https://ipywidgets.readthedocs.io/en/stable/user_install.html\n",
      "  from .autonotebook import tqdm as notebook_tqdm\n"
     ]
    }
   ],
   "source": [
    "from transformers import TFAutoModel, TFAutoModelForSequenceClassification"
   ]
  },
  {
   "cell_type": "code",
   "execution_count": 17,
   "metadata": {},
   "outputs": [
    {
     "name": "stderr",
     "output_type": "stream",
     "text": [
      "Some weights of the PyTorch model were not used when initializing the TF 2.0 model TFBertModel: ['cls.predictions.transform.dense.weight', 'cls.predictions.bias', 'cls.seq_relationship.bias', 'cls.predictions.transform.dense.bias', 'cls.seq_relationship.weight', 'cls.predictions.transform.LayerNorm.weight', 'cls.predictions.transform.LayerNorm.bias']\n",
      "- This IS expected if you are initializing TFBertModel from a PyTorch model trained on another task or with another architecture (e.g. initializing a TFBertForSequenceClassification model from a BertForPreTraining model).\n",
      "- This IS NOT expected if you are initializing TFBertModel from a PyTorch model that you expect to be exactly identical (e.g. initializing a TFBertForSequenceClassification model from a BertForSequenceClassification model).\n",
      "All the weights of TFBertModel were initialized from the PyTorch model.\n",
      "If your task is similar to the task the model of the checkpoint was trained on, you can already use TFBertModel for predictions without further training.\n"
     ]
    }
   ],
   "source": [
    "bert = TFAutoModel.from_pretrained('bert-base-cased')"
   ]
  },
  {
   "cell_type": "code",
   "execution_count": 18,
   "metadata": {},
   "outputs": [],
   "source": [
    "NUM_CLASSES = 5"
   ]
  },
  {
   "cell_type": "code",
   "execution_count": 21,
   "metadata": {},
   "outputs": [],
   "source": [
    "input_ids = tf.keras.layers.Input(shape= (SEQ_LEN, ), name= 'input_ids', dtype= 'int32')\n",
    "mask = tf.keras.layers.Input(shape= (SEQ_LEN, ), name= 'attention_mask', dtype= 'int32')\n",
    "embeddings = bert(input_ids, attention_mask= mask)[0]\n",
    "X = tf.keras.layers.GlobalMaxPool1D()(embeddings)\n",
    "X = tf.keras.layers.BatchNormalization()(X)\n",
    "X = tf.keras.layers.Dense(64, activation='relu')(X)\n",
    "y= tf.keras.layers.Dense(5, activation='softmax', name= 'outputs')(X)\n",
    "\n",
    "model = tf.keras.Model(inputs = [input_ids, mask], outputs = y)\n",
    "\n",
    "model.layers[2].trainable = False"
   ]
  },
  {
   "cell_type": "code",
   "execution_count": 22,
   "metadata": {},
   "outputs": [
    {
     "name": "stdout",
     "output_type": "stream",
     "text": [
      "Model: \"model_1\"\n",
      "__________________________________________________________________________________________________\n",
      " Layer (type)                   Output Shape         Param #     Connected to                     \n",
      "==================================================================================================\n",
      " input_ids (InputLayer)         [(None, 512)]        0           []                               \n",
      "                                                                                                  \n",
      " attention_mask (InputLayer)    [(None, 512)]        0           []                               \n",
      "                                                                                                  \n",
      " tf_bert_model (TFBertModel)    TFBaseModelOutputWi  108310272   ['input_ids[0][0]',              \n",
      "                                thPoolingAndCrossAt               'attention_mask[0][0]']         \n",
      "                                tentions(last_hidde                                               \n",
      "                                n_state=(None, 512,                                               \n",
      "                                 768),                                                            \n",
      "                                 pooler_output=(Non                                               \n",
      "                                e, 768),                                                          \n",
      "                                 past_key_values=No                                               \n",
      "                                ne, hidden_states=N                                               \n",
      "                                one, attentions=Non                                               \n",
      "                                e, cross_attentions                                               \n",
      "                                =None)                                                            \n",
      "                                                                                                  \n",
      " global_max_pooling1d_3 (Global  (None, 768)         0           ['tf_bert_model[1][0]']          \n",
      " MaxPooling1D)                                                                                    \n",
      "                                                                                                  \n",
      " batch_normalization_1 (BatchNo  (None, 768)         3072        ['global_max_pooling1d_3[0][0]'] \n",
      " rmalization)                                                                                     \n",
      "                                                                                                  \n",
      " dense_1 (Dense)                (None, 64)           49216       ['batch_normalization_1[0][0]']  \n",
      "                                                                                                  \n",
      " outputs (Dense)                (None, 5)            325         ['dense_1[0][0]']                \n",
      "                                                                                                  \n",
      "==================================================================================================\n",
      "Total params: 108,362,885\n",
      "Trainable params: 51,077\n",
      "Non-trainable params: 108,311,808\n",
      "__________________________________________________________________________________________________\n"
     ]
    }
   ],
   "source": [
    "model.summary()"
   ]
  },
  {
   "cell_type": "code",
   "execution_count": 23,
   "metadata": {},
   "outputs": [],
   "source": [
    "optimizer = tf.keras.optimizers.Adam(0.01)\n",
    "loss = tf.keras.losses.CategoricalCrossentropy()\n",
    "acc = tf.keras.metrics.CategoricalAccuracy('accuracy')\n",
    "\n",
    "model.compile(optimizer = optimizer, loss = loss, metrics= [acc])"
   ]
  },
  {
   "cell_type": "code",
   "execution_count": 24,
   "metadata": {},
   "outputs": [
    {
     "data": {
      "text/plain": [
       "[PhysicalDevice(name='/physical_device:GPU:0', device_type='GPU')]"
      ]
     },
     "execution_count": 24,
     "metadata": {},
     "output_type": "execute_result"
    }
   ],
   "source": [
    "tf.config.experimental.list_physical_devices('GPU')"
   ]
  },
  {
   "cell_type": "code",
   "execution_count": 25,
   "metadata": {},
   "outputs": [],
   "source": [
    "callbacks = [\n",
    "    tf.keras.callbacks.EarlyStopping(patience=10, restore_best_weights=True),\n",
    "    tf.keras.callbacks.ModelCheckpoint(filepath= 'Xception.h5')] #setting up early stopping"
   ]
  },
  {
   "cell_type": "code",
   "execution_count": 26,
   "metadata": {},
   "outputs": [
    {
     "name": "stdout",
     "output_type": "stream",
     "text": [
      "Epoch 1/15\n"
     ]
    },
    {
     "name": "stdout",
     "output_type": "stream",
     "text": [
      "358/358 [==============================] - 409s 1s/step - loss: 0.6702 - accuracy: 0.7972 - val_loss: 0.2294 - val_accuracy: 0.9313\n",
      "Epoch 2/15\n",
      "358/358 [==============================] - 391s 1s/step - loss: 0.3684 - accuracy: 0.8686 - val_loss: 0.2431 - val_accuracy: 0.9114\n",
      "Epoch 3/15\n",
      "358/358 [==============================] - 394s 1s/step - loss: 0.3065 - accuracy: 0.8890 - val_loss: 0.1568 - val_accuracy: 0.9501\n",
      "Epoch 4/15\n",
      "358/358 [==============================] - 512s 1s/step - loss: 0.3022 - accuracy: 0.8966 - val_loss: 0.1512 - val_accuracy: 0.9491\n",
      "Epoch 5/15\n",
      "358/358 [==============================] - 401s 1s/step - loss: 0.3075 - accuracy: 0.8962 - val_loss: 0.1647 - val_accuracy: 0.9449\n",
      "Epoch 6/15\n",
      "358/358 [==============================] - 399s 1s/step - loss: 0.2923 - accuracy: 0.9011 - val_loss: 0.1151 - val_accuracy: 0.9616\n",
      "Epoch 7/15\n",
      "358/358 [==============================] - 397s 1s/step - loss: 0.2739 - accuracy: 0.9053 - val_loss: 0.1422 - val_accuracy: 0.9505\n",
      "Epoch 8/15\n",
      "358/358 [==============================] - 396s 1s/step - loss: 0.2788 - accuracy: 0.9056 - val_loss: 0.1277 - val_accuracy: 0.9574\n",
      "Epoch 9/15\n",
      "358/358 [==============================] - 1122s 3s/step - loss: 0.2995 - accuracy: 0.8972 - val_loss: 0.2362 - val_accuracy: 0.9365\n",
      "Epoch 10/15\n",
      "358/358 [==============================] - 396s 1s/step - loss: 0.2773 - accuracy: 0.9030 - val_loss: 0.1447 - val_accuracy: 0.9564\n",
      "Epoch 11/15\n",
      "358/358 [==============================] - 397s 1s/step - loss: 0.2882 - accuracy: 0.9036 - val_loss: 0.1371 - val_accuracy: 0.9515\n",
      "Epoch 12/15\n",
      "358/358 [==============================] - 401s 1s/step - loss: 0.2764 - accuracy: 0.9090 - val_loss: 0.1627 - val_accuracy: 0.9445\n",
      "Epoch 13/15\n",
      "358/358 [==============================] - 397s 1s/step - loss: 0.2701 - accuracy: 0.9079 - val_loss: 0.1182 - val_accuracy: 0.9655\n",
      "Epoch 14/15\n",
      "358/358 [==============================] - 403s 1s/step - loss: 0.2773 - accuracy: 0.9076 - val_loss: 0.1548 - val_accuracy: 0.9459\n",
      "Epoch 15/15\n",
      "358/358 [==============================] - 402s 1s/step - loss: 0.2430 - accuracy: 0.9170 - val_loss: 0.1198 - val_accuracy: 0.9616\n"
     ]
    },
    {
     "data": {
      "text/plain": [
       "<keras.callbacks.History at 0x16b990e38b0>"
      ]
     },
     "execution_count": 26,
     "metadata": {},
     "output_type": "execute_result"
    }
   ],
   "source": [
    "model.fit(\n",
    "    train, validation_data= val, epochs=15, batch_size=32,callbacks=callbacks,\n",
    ")"
   ]
  },
  {
   "cell_type": "code",
   "execution_count": 28,
   "metadata": {},
   "outputs": [],
   "source": [
    "import os\n",
    "filename= 'bert_model_512_v3.h5'\n",
    "\n",
    "# Delete the file if it already exists\n",
    "if os.path.exists(filename):\n",
    "    os.remove(filename)\n",
    "# Save the model\n",
    "model.save(filename)"
   ]
  },
  {
   "cell_type": "markdown",
   "metadata": {},
   "source": [
    "# validating and getting materics"
   ]
  },
  {
   "cell_type": "code",
   "execution_count": 4,
   "metadata": {},
   "outputs": [],
   "source": [
    "import pandas as pd"
   ]
  },
  {
   "cell_type": "code",
   "execution_count": 5,
   "metadata": {},
   "outputs": [
    {
     "data": {
      "text/html": [
       "<div>\n",
       "<style scoped>\n",
       "    .dataframe tbody tr th:only-of-type {\n",
       "        vertical-align: middle;\n",
       "    }\n",
       "\n",
       "    .dataframe tbody tr th {\n",
       "        vertical-align: top;\n",
       "    }\n",
       "\n",
       "    .dataframe thead th {\n",
       "        text-align: right;\n",
       "    }\n",
       "</style>\n",
       "<table border=\"1\" class=\"dataframe\">\n",
       "  <thead>\n",
       "    <tr style=\"text-align: right;\">\n",
       "      <th></th>\n",
       "      <th>text</th>\n",
       "      <th>category</th>\n",
       "    </tr>\n",
       "  </thead>\n",
       "  <tbody>\n",
       "    <tr>\n",
       "      <th>0</th>\n",
       "      <td>Eso es por un lado , por_otro_lado debemos que...</td>\n",
       "      <td>B2</td>\n",
       "    </tr>\n",
       "    <tr>\n",
       "      <th>1</th>\n",
       "      <td>Los fumadores no solamente empeoran su salud ,...</td>\n",
       "      <td>B2</td>\n",
       "    </tr>\n",
       "    <tr>\n",
       "      <th>2</th>\n",
       "      <td>Hola , Mi familia se compone de tres miembres ...</td>\n",
       "      <td>A1</td>\n",
       "    </tr>\n",
       "    <tr>\n",
       "      <th>3</th>\n",
       "      <td>Señores de la compañia de gas y electricidad ,...</td>\n",
       "      <td>C1</td>\n",
       "    </tr>\n",
       "    <tr>\n",
       "      <th>4</th>\n",
       "      <td>Señores de la compañia de gas y electricidad ,...</td>\n",
       "      <td>C1</td>\n",
       "    </tr>\n",
       "    <tr>\n",
       "      <th>...</th>\n",
       "      <td>...</td>\n",
       "      <td>...</td>\n",
       "    </tr>\n",
       "    <tr>\n",
       "      <th>4471</th>\n",
       "      <td>¡ Hola ! ¿ Que tal ? Qiuro describir mi amiga ...</td>\n",
       "      <td>A2</td>\n",
       "    </tr>\n",
       "    <tr>\n",
       "      <th>4472</th>\n",
       "      <td>buenos dìas , Mi llamo soukaina_X vivo en marr...</td>\n",
       "      <td>A2</td>\n",
       "    </tr>\n",
       "    <tr>\n",
       "      <th>4473</th>\n",
       "      <td>Estimdo empresa de avión : Hasta ahora sigo bu...</td>\n",
       "      <td>B1</td>\n",
       "    </tr>\n",
       "    <tr>\n",
       "      <th>4474</th>\n",
       "      <td>La Universidad_de_Barcelona Damasco , 1_de_nov...</td>\n",
       "      <td>B2</td>\n",
       "    </tr>\n",
       "    <tr>\n",
       "      <th>4475</th>\n",
       "      <td>Hola mi amigo ! Va a explicar mi vacacion buen...</td>\n",
       "      <td>A2</td>\n",
       "    </tr>\n",
       "  </tbody>\n",
       "</table>\n",
       "<p>4476 rows × 2 columns</p>\n",
       "</div>"
      ],
      "text/plain": [
       "                                                   text category\n",
       "0     Eso es por un lado , por_otro_lado debemos que...       B2\n",
       "1     Los fumadores no solamente empeoran su salud ,...       B2\n",
       "2     Hola , Mi familia se compone de tres miembres ...       A1\n",
       "3     Señores de la compañia de gas y electricidad ,...       C1\n",
       "4     Señores de la compañia de gas y electricidad ,...       C1\n",
       "...                                                 ...      ...\n",
       "4471  ¡ Hola ! ¿ Que tal ? Qiuro describir mi amiga ...       A2\n",
       "4472  buenos dìas , Mi llamo soukaina_X vivo en marr...       A2\n",
       "4473  Estimdo empresa de avión : Hasta ahora sigo bu...       B1\n",
       "4474  La Universidad_de_Barcelona Damasco , 1_de_nov...       B2\n",
       "4475  Hola mi amigo ! Va a explicar mi vacacion buen...       A2\n",
       "\n",
       "[4476 rows x 2 columns]"
      ]
     },
     "execution_count": 5,
     "metadata": {},
     "output_type": "execute_result"
    }
   ],
   "source": [
    "# Specify the file path where you want to save the CSV file\n",
    "file_path = 'val_data.csv'\n",
    "loaded_df = pd.read_csv(file_path)\n",
    "loaded_df"
   ]
  },
  {
   "cell_type": "code",
   "execution_count": 6,
   "metadata": {},
   "outputs": [],
   "source": [
    "from transformers import AutoTokenizer\n",
    "\n",
    "#2847 Iis the max lenght of the texts\n",
    "SEQ_LEN = 512\n",
    "\n",
    "#i chose bert-base-cased because for me it's important to recognize the capital letters \n",
    "# in the text to identify the language level\n",
    "tokenizer = AutoTokenizer.from_pretrained(\"bert-base-cased\")"
   ]
  },
  {
   "cell_type": "code",
   "execution_count": 7,
   "metadata": {},
   "outputs": [],
   "source": [
    "Xids = []\n",
    "Xmask = []"
   ]
  },
  {
   "cell_type": "code",
   "execution_count": 8,
   "metadata": {},
   "outputs": [],
   "source": [
    "import numpy as np\n",
    "\n",
    "Xids= np.zeros((len(loaded_df), SEQ_LEN))\n",
    "Xmask= np.zeros((len(loaded_df), SEQ_LEN))"
   ]
  },
  {
   "cell_type": "code",
   "execution_count": 9,
   "metadata": {},
   "outputs": [],
   "source": [
    "#casting text to String\n",
    "loaded_df['text'] = loaded_df['text'].astype(str)"
   ]
  },
  {
   "cell_type": "code",
   "execution_count": 10,
   "metadata": {},
   "outputs": [],
   "source": [
    "#checking type\n",
    "for i, sequence in enumerate(loaded_df['text']):\n",
    "    if not isinstance(sequence, str):\n",
    "        print(f\"Warning: 'text' at index {i} is not a string: {sequence}\")"
   ]
  },
  {
   "cell_type": "code",
   "execution_count": 11,
   "metadata": {},
   "outputs": [],
   "source": [
    "for i, sequence in enumerate(loaded_df['text']):\n",
    "    encoded_token = tokenizer.encode_plus(\n",
    "        sequence, \n",
    "        max_length= SEQ_LEN, \n",
    "        truncation= True, \n",
    "        padding= \"max_length\",\n",
    "        add_special_tokens = True,\n",
    "        return_token_type_ids = False,\n",
    "        return_attention_mask = True,\n",
    "        return_tensors = 'tf'\n",
    "    )\n",
    "    Xids[i,:], Xmask[i,:] = encoded_token['input_ids'],encoded_token['attention_mask']"
   ]
  },
  {
   "cell_type": "code",
   "execution_count": 12,
   "metadata": {},
   "outputs": [
    {
     "name": "stdout",
     "output_type": "stream",
     "text": [
      "     category  numerical_category\n",
      "0          B2                   3\n",
      "1          B2                   3\n",
      "2          A1                   0\n",
      "3          C1                   4\n",
      "4          C1                   4\n",
      "...       ...                 ...\n",
      "4471       A2                   1\n",
      "4472       A2                   1\n",
      "4473       B1                   2\n",
      "4474       B2                   3\n",
      "4475       A2                   1\n",
      "\n",
      "[4476 rows x 2 columns]\n"
     ]
    }
   ],
   "source": [
    "from sklearn.preprocessing import LabelEncoder\n",
    "\n",
    "# Create a LabelEncoder instance\n",
    "label_encoder = LabelEncoder()\n",
    "\n",
    "# Fit the encoder to the unique category strings and transform the 'category' column\n",
    "loaded_df['numerical_category'] = label_encoder.fit_transform(loaded_df['category'])\n",
    "\n",
    "# Display the DataFrame with the new 'numerical_category' column\n",
    "print(loaded_df[['category', 'numerical_category']])\n"
   ]
  },
  {
   "cell_type": "code",
   "execution_count": 13,
   "metadata": {},
   "outputs": [
    {
     "data": {
      "text/plain": [
       "4476"
      ]
     },
     "execution_count": 13,
     "metadata": {},
     "output_type": "execute_result"
    }
   ],
   "source": [
    "arr = loaded_df['numerical_category'].values\n",
    "arr.size"
   ]
  },
  {
   "cell_type": "code",
   "execution_count": 14,
   "metadata": {},
   "outputs": [
    {
     "data": {
      "text/plain": [
       "(4476, 5)"
      ]
     },
     "execution_count": 14,
     "metadata": {},
     "output_type": "execute_result"
    }
   ],
   "source": [
    "labels = np.zeros((arr.size, arr.max()+1))\n",
    "labels.shape"
   ]
  },
  {
   "cell_type": "code",
   "execution_count": 15,
   "metadata": {},
   "outputs": [
    {
     "data": {
      "text/plain": [
       "array([[0., 0., 0., 1., 0.],\n",
       "       [0., 0., 0., 1., 0.],\n",
       "       [1., 0., 0., 0., 0.],\n",
       "       ...,\n",
       "       [0., 0., 1., 0., 0.],\n",
       "       [0., 0., 0., 1., 0.],\n",
       "       [0., 1., 0., 0., 0.]])"
      ]
     },
     "execution_count": 15,
     "metadata": {},
     "output_type": "execute_result"
    }
   ],
   "source": [
    "labels[np.arange(arr.size), arr] = 1\n",
    "labels"
   ]
  },
  {
   "cell_type": "code",
   "execution_count": 16,
   "metadata": {},
   "outputs": [
    {
     "name": "stdout",
     "output_type": "stream",
     "text": [
      "140/140 [==============================] - 116s 759ms/step\n"
     ]
    },
    {
     "data": {
      "text/plain": [
       "array([[0.0000000e+00, 1.5630654e-35, 0.0000000e+00, 1.0000000e+00,\n",
       "        0.0000000e+00],\n",
       "       [1.3378042e-25, 3.1453323e-23, 3.7268321e-24, 1.0000000e+00,\n",
       "        5.7458724e-30],\n",
       "       [9.9999642e-01, 3.4841473e-06, 1.3042141e-07, 7.6689106e-11,\n",
       "        5.9325973e-12],\n",
       "       ...,\n",
       "       [8.4558515e-12, 2.0913879e-10, 1.0000000e+00, 8.7481042e-18,\n",
       "        8.0528703e-16],\n",
       "       [4.5335963e-17, 9.2151008e-24, 2.9666062e-28, 1.0000000e+00,\n",
       "        5.6033324e-31],\n",
       "       [6.5627064e-06, 9.9998891e-01, 4.5509423e-06, 3.4013687e-09,\n",
       "        2.8801617e-15]], dtype=float32)"
      ]
     },
     "execution_count": 16,
     "metadata": {},
     "output_type": "execute_result"
    }
   ],
   "source": [
    "saved_predictions = model.predict({'input_ids': Xids, 'attention_mask' : Xmask})\n",
    "saved_predictions"
   ]
  },
  {
   "cell_type": "code",
   "execution_count": 17,
   "metadata": {},
   "outputs": [
    {
     "data": {
      "text/plain": [
       "array([3, 3, 0, ..., 2, 3, 1], dtype=int64)"
      ]
     },
     "execution_count": 17,
     "metadata": {},
     "output_type": "execute_result"
    }
   ],
   "source": [
    "import numpy as np\n",
    "\n",
    "# Assuming predictions is the array you provided\n",
    "predictions = np.array(saved_predictions)\n",
    "\n",
    "# Get the class label or index with the highest probability\n",
    "predicted_class = np.argmax(predictions, axis=1)\n",
    "\n",
    "# Assuming you have a list of class labels\n",
    "class_labels = [\"A1\", \"A2\", \"B1\", \"B2\", \"C1\"]\n",
    "predicted_class\n"
   ]
  },
  {
   "cell_type": "code",
   "execution_count": 18,
   "metadata": {},
   "outputs": [
    {
     "data": {
      "text/plain": [
       "array([3, 3, 0, ..., 2, 3, 1], dtype=int64)"
      ]
     },
     "execution_count": 18,
     "metadata": {},
     "output_type": "execute_result"
    }
   ],
   "source": [
    "# Get the class label or index with the highest probability\n",
    "true_labels = np.argmax(labels, axis=1)\n",
    "true_labels"
   ]
  },
  {
   "cell_type": "code",
   "execution_count": 19,
   "metadata": {},
   "outputs": [
    {
     "data": {
      "image/png": "[encoded data removed]",
      "text/plain": [
       "<Figure size 640x480 with 2 Axes>"
      ]
     },
     "metadata": {},
     "output_type": "display_data"
    }
   ],
   "source": [
    "import numpy as np\n",
    "from sklearn.metrics import confusion_matrix\n",
    "import matplotlib.pyplot as plt\n",
    "\n",
    "# Compute confusion matrix\n",
    "cm = confusion_matrix(true_labels, predicted_class)\n",
    "\n",
    "# Display confusion matrix as a table\n",
    "fig, ax = plt.subplots()\n",
    "im = ax.imshow(cm, cmap='Blues')\n",
    "\n",
    "# Customize the plot\n",
    "ax.set_xticks(np.arange(cm.shape[1]))\n",
    "ax.set_yticks(np.arange(cm.shape[0]))\n",
    "ax.set_xticklabels(['A1', 'A2', 'B1','B2', 'C1'])\n",
    "ax.set_yticklabels(['A1', 'A2', 'B1','B2', 'C1'])\n",
    "plt.xlabel(\"original\")\n",
    "plt.ylabel(\"predicted\")\n",
    "\n",
    "# Add values inside the confusion matrix cells\n",
    "for i in range(cm.shape[0]):\n",
    "    for j in range(cm.shape[1]):\n",
    "        color = 'white' if cm[i, j] > cm.max() / 2 else 'black'  # Set font color based on the cell value\n",
    "        ax.text(j, i, cm[i, j], ha=\"center\", va=\"center\", color=color)\n",
    "\n",
    "plt.title(\"Confusion Matrix\")\n",
    "plt.colorbar(im)\n",
    "plt.show()"
   ]
  },
  {
   "cell_type": "code",
   "execution_count": 20,
   "metadata": {},
   "outputs": [
    {
     "data": {
      "text/plain": [
       "array([3, 3, 0, ..., 2, 3, 1], dtype=int64)"
      ]
     },
     "execution_count": 20,
     "metadata": {},
     "output_type": "execute_result"
    }
   ],
   "source": [
    "import numpy as np\n",
    "\n",
    "# Assuming predictions is the array you provided\n",
    "predictions = np.array(saved_predictions)\n",
    "\n",
    "# Get the class label or index with the highest probability\n",
    "predicted_class = np.argmax(predictions, axis=1)\n",
    "\n",
    "# Assuming you have a list of class labels\n",
    "class_labels = [\"A1\", \"A2\", \"B1\", \"B2\", \"C1\"]\n",
    "predicted_class\n"
   ]
  },
  {
   "cell_type": "code",
   "execution_count": 21,
   "metadata": {},
   "outputs": [
    {
     "name": "stdout",
     "output_type": "stream",
     "text": [
      "              precision    recall  f1-score   support\n",
      "\n",
      "           0       0.94      0.96      0.95       913\n",
      "           1       0.97      0.88      0.92       901\n",
      "           2       0.98      0.95      0.96       913\n",
      "           3       1.00      0.96      0.98       913\n",
      "           4       0.87      1.00      0.93       836\n",
      "\n",
      "    accuracy                           0.95      4476\n",
      "   macro avg       0.95      0.95      0.95      4476\n",
      "weighted avg       0.95      0.95      0.95      4476\n",
      "\n"
     ]
    }
   ],
   "source": [
    "from sklearn.metrics import classification_report\n",
    "\n",
    "# Get the class with the highest probability as the predicted class\n",
    "predicted_classes = [np.argmax(pred) for pred in predictions]\n",
    "\n",
    "# Generate the classification report\n",
    "report = classification_report(true_labels, predicted_classes)\n",
    "\n",
    "# Print the classification report\n",
    "print(report)"
   ]
  },
  {
   "cell_type": "code",
   "execution_count": 22,
   "metadata": {},
   "outputs": [
    {
     "data": {
      "text/plain": [
       "{'status': 'ok', 'restart': True}"
      ]
     },
     "execution_count": 22,
     "metadata": {},
     "output_type": "execute_result"
    },
    {
     "ename": "",
     "evalue": "",
     "output_type": "error",
     "traceback": [
      "\u001b[1;31mThe Kernel crashed while executing code in the the current cell or a previous cell. Please review the code in the cell(s) to identify a possible cause of the failure. Click <a href='https://aka.ms/vscodeJupyterKernelCrash'>here</a> for more info. View Jupyter <a href='command:jupyter.viewOutput'>log</a> for further details."
     ]
    }
   ],
   "source": [
    "# kill kernel\n",
    "\n",
    "import IPython\n",
    "app = IPython.Application.instance()\n",
    "app.kernel.do_shutdown(True)"
   ]
  }
 ],
 "metadata": {
  "kernelspec": {
   "display_name": "nlpenv",
   "language": "python",
   "name": "python3"
  },
  "language_info": {
   "codemirror_mode": {
    "name": "ipython",
    "version": 3
   },
   "file_extension": ".py",
   "mimetype": "text/x-python",
   "name": "python",
   "nbconvert_exporter": "python",
   "pygments_lexer": "ipython3",
   "version": "3.10.10"
  }
 },
 "nbformat": 4,
 "nbformat_minor": 2
}
