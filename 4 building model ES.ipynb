{
 "cells": [
  {
   "cell_type": "code",
   "execution_count": 1,
   "metadata": {},
   "outputs": [],
   "source": [
    "import numpy as np"
   ]
  },
  {
   "cell_type": "code",
   "execution_count": 2,
   "metadata": {},
   "outputs": [],
   "source": [
    "with open('Xids_train.npy', 'rb')as fp:\n",
    "    Xids = np.load(fp)\n",
    "\n",
    "with open('Xmask_train.npy', 'rb')as fp:\n",
    "    Xmask = np.load(fp)\n",
    "\n",
    "with open('Labels_train.npy', 'rb')as fp:\n",
    "    labels = np.load(fp)"
   ]
  },
  {
   "cell_type": "code",
   "execution_count": 3,
   "metadata": {},
   "outputs": [
    {
     "data": {
      "text/plain": [
       "(9267, 512)"
      ]
     },
     "execution_count": 3,
     "metadata": {},
     "output_type": "execute_result"
    }
   ],
   "source": [
    "Xids.shape"
   ]
  },
  {
   "cell_type": "code",
   "execution_count": 4,
   "metadata": {},
   "outputs": [
    {
     "data": {
      "text/plain": [
       "(9267, 5)"
      ]
     },
     "execution_count": 4,
     "metadata": {},
     "output_type": "execute_result"
    }
   ],
   "source": [
    "labels.shape"
   ]
  },
  {
   "cell_type": "code",
   "execution_count": 5,
   "metadata": {},
   "outputs": [
    {
     "data": {
      "text/plain": [
       "[PhysicalDevice(name='/physical_device:GPU:0', device_type='GPU')]"
      ]
     },
     "execution_count": 5,
     "metadata": {},
     "output_type": "execute_result"
    }
   ],
   "source": [
    "import tensorflow as tf \n",
    "tf.config.experimental.list_physical_devices('GPU')"
   ]
  },
  {
   "cell_type": "code",
   "execution_count": 6,
   "metadata": {},
   "outputs": [],
   "source": [
    "dataset = tf.data.Dataset.from_tensor_slices((Xids, Xmask, labels))"
   ]
  },
  {
   "cell_type": "code",
   "execution_count": 7,
   "metadata": {},
   "outputs": [],
   "source": [
    "def map_func(input_ids, mask, labels):\n",
    "    return {'input_ids': input_ids, 'attention_mask': mask}, labels"
   ]
  },
  {
   "cell_type": "code",
   "execution_count": 8,
   "metadata": {},
   "outputs": [],
   "source": [
    "dataset = dataset.map(map_func)"
   ]
  },
  {
   "cell_type": "code",
   "execution_count": 9,
   "metadata": {},
   "outputs": [],
   "source": [
    "dataset = dataset.shuffle(100000).batch(32)"
   ]
  },
  {
   "cell_type": "code",
   "execution_count": 10,
   "metadata": {},
   "outputs": [],
   "source": [
    "SEQ_LEN = 512\n",
    "NUM_CLASS = 5"
   ]
  },
  {
   "cell_type": "code",
   "execution_count": 11,
   "metadata": {},
   "outputs": [
    {
     "data": {
      "text/plain": [
       "290"
      ]
     },
     "execution_count": 11,
     "metadata": {},
     "output_type": "execute_result"
    }
   ],
   "source": [
    "DS_LEN = len(list(dataset))\n",
    "DS_LEN"
   ]
  },
  {
   "cell_type": "code",
   "execution_count": 12,
   "metadata": {},
   "outputs": [],
   "source": [
    "SPLIT = .8\n",
    "train = dataset.take(round(DS_LEN*SPLIT))\n",
    "val = dataset.skip(round(DS_LEN*SPLIT))"
   ]
  },
  {
   "cell_type": "code",
   "execution_count": 13,
   "metadata": {},
   "outputs": [
    {
     "data": {
      "text/plain": [
       "<SkipDataset element_spec=({'input_ids': TensorSpec(shape=(None, 512), dtype=tf.float64, name=None), 'attention_mask': TensorSpec(shape=(None, 512), dtype=tf.float64, name=None)}, TensorSpec(shape=(None, 5), dtype=tf.float64, name=None))>"
      ]
     },
     "execution_count": 13,
     "metadata": {},
     "output_type": "execute_result"
    }
   ],
   "source": [
    "val"
   ]
  },
  {
   "cell_type": "code",
   "execution_count": 14,
   "metadata": {},
   "outputs": [],
   "source": [
    "del dataset"
   ]
  },
  {
   "cell_type": "code",
   "execution_count": 15,
   "metadata": {},
   "outputs": [],
   "source": [
    "del Xids\n",
    "del Xmask\n",
    "del labels"
   ]
  },
  {
   "cell_type": "code",
   "execution_count": 16,
   "metadata": {},
   "outputs": [
    {
     "name": "stderr",
     "output_type": "stream",
     "text": [
      "e:\\python_enviroments\\envs\\nlpenv\\lib\\site-packages\\tqdm\\auto.py:21: TqdmWarning: IProgress not found. Please update jupyter and ipywidgets. See https://ipywidgets.readthedocs.io/en/stable/user_install.html\n",
      "  from .autonotebook import tqdm as notebook_tqdm\n"
     ]
    }
   ],
   "source": [
    "from transformers import TFAutoModel, TFAutoModelForSequenceClassification"
   ]
  },
  {
   "cell_type": "code",
   "execution_count": 17,
   "metadata": {},
   "outputs": [
    {
     "name": "stderr",
     "output_type": "stream",
     "text": [
      "All model checkpoint layers were used when initializing TFBertForSequenceClassification.\n",
      "\n",
      "Some layers of TFBertForSequenceClassification were not initialized from the model checkpoint at dccuchile/bert-base-Spanish-wwm-cased and are newly initialized: ['classifier', 'bert/pooler/dense/kernel:0', 'bert/pooler/dense/bias:0']\n",
      "You should probably TRAIN this model on a down-stream task to be able to use it for predictions and inference.\n"
     ]
    }
   ],
   "source": [
    "# bert = TFAutoModel.from_pretrained('bert-base-cased')\n",
    "bert = TFAutoModelForSequenceClassification.from_pretrained(\"dccuchile/bert-base-Spanish-wwm-cased\")"
   ]
  },
  {
   "cell_type": "code",
   "execution_count": 18,
   "metadata": {},
   "outputs": [],
   "source": [
    "NUM_CLASSES = 5"
   ]
  },
  {
   "cell_type": "code",
   "execution_count": 19,
   "metadata": {},
   "outputs": [],
   "source": [
    "input_ids = tf.keras.layers.Input(shape= (SEQ_LEN, ), name= 'input_ids', dtype= 'int32')\n",
    "mask = tf.keras.layers.Input(shape= (SEQ_LEN, ), name= 'attention_mask', dtype= 'int32')\n",
    "embeddings = bert(input_ids, attention_mask= mask)[0]\n",
    "\n",
    "# X = tf.keras.layers.GlobalMaxPool1D()(embeddings)\n",
    "\n",
    "reshaped_embeddings = tf.keras.layers.Reshape((2, -1))(embeddings)\n",
    "X = tf.keras.layers.GlobalMaxPool1D()(reshaped_embeddings)\n",
    "X = tf.keras.layers.BatchNormalization()(X)\n",
    "X = tf.keras.layers.Dense(64, activation='relu')(X)\n",
    "y= tf.keras.layers.Dense(5, activation='softmax', name= 'outputs')(X)\n",
    "\n",
    "model = tf.keras.Model(inputs = [input_ids, mask], outputs = y)\n",
    "\n",
    "model.layers[2].trainable = False"
   ]
  },
  {
   "cell_type": "code",
   "execution_count": 20,
   "metadata": {},
   "outputs": [
    {
     "name": "stdout",
     "output_type": "stream",
     "text": [
      "Model: \"model\"\n",
      "__________________________________________________________________________________________________\n",
      " Layer (type)                   Output Shape         Param #     Connected to                     \n",
      "==================================================================================================\n",
      " input_ids (InputLayer)         [(None, 512)]        0           []                               \n",
      "                                                                                                  \n",
      " attention_mask (InputLayer)    [(None, 512)]        0           []                               \n",
      "                                                                                                  \n",
      " tf_bert_for_sequence_classific  TFSequenceClassifie  109852418  ['input_ids[0][0]',              \n",
      " ation (TFBertForSequenceClassi  rOutput(loss=None,               'attention_mask[0][0]']         \n",
      " fication)                      logits=(None, 2),                                                 \n",
      "                                 hidden_states=None                                               \n",
      "                                , attentions=None)                                                \n",
      "                                                                                                  \n",
      " reshape (Reshape)              (None, 2, 1)         0           ['tf_bert_for_sequence_classifica\n",
      "                                                                 tion[0][0]']                     \n",
      "                                                                                                  \n",
      " global_max_pooling1d (GlobalMa  (None, 1)           0           ['reshape[0][0]']                \n",
      " xPooling1D)                                                                                      \n",
      "                                                                                                  \n",
      " batch_normalization (BatchNorm  (None, 1)           4           ['global_max_pooling1d[0][0]']   \n",
      " alization)                                                                                       \n",
      "                                                                                                  \n",
      " dense (Dense)                  (None, 64)           128         ['batch_normalization[0][0]']    \n",
      "                                                                                                  \n",
      " outputs (Dense)                (None, 5)            325         ['dense[0][0]']                  \n",
      "                                                                                                  \n",
      "==================================================================================================\n",
      "Total params: 109,852,875\n",
      "Trainable params: 455\n",
      "Non-trainable params: 109,852,420\n",
      "__________________________________________________________________________________________________\n"
     ]
    }
   ],
   "source": [
    "model.summary()"
   ]
  },
  {
   "cell_type": "code",
   "execution_count": 21,
   "metadata": {},
   "outputs": [],
   "source": [
    "optimizer = tf.keras.optimizers.Adam(0.01)\n",
    "loss = tf.keras.losses.CategoricalCrossentropy()\n",
    "acc = tf.keras.metrics.CategoricalAccuracy('accuracy')\n",
    "\n",
    "model.compile(optimizer = optimizer, loss = loss, metrics= [acc])"
   ]
  },
  {
   "cell_type": "code",
   "execution_count": 22,
   "metadata": {},
   "outputs": [
    {
     "data": {
      "text/plain": [
       "[PhysicalDevice(name='/physical_device:GPU:0', device_type='GPU')]"
      ]
     },
     "execution_count": 22,
     "metadata": {},
     "output_type": "execute_result"
    }
   ],
   "source": [
    "tf.config.experimental.list_physical_devices('GPU')"
   ]
  },
  {
   "cell_type": "code",
   "execution_count": 23,
   "metadata": {},
   "outputs": [],
   "source": [
    "callbacks = [\n",
    "    tf.keras.callbacks.EarlyStopping(patience=10, restore_best_weights=True),\n",
    "    tf.keras.callbacks.ModelCheckpoint(filepath= 'Xception.h5')] #setting up early stopping"
   ]
  },
  {
   "cell_type": "code",
   "execution_count": 24,
   "metadata": {},
   "outputs": [
    {
     "name": "stdout",
     "output_type": "stream",
     "text": [
      "Epoch 1/15\n"
     ]
    },
    {
     "name": "stdout",
     "output_type": "stream",
     "text": [
      "232/232 [==============================] - 276s 1s/step - loss: 1.6021 - accuracy: 0.2346 - val_loss: 1.6105 - val_accuracy: 0.1970\n",
      "Epoch 2/15\n",
      "232/232 [==============================] - 255s 1s/step - loss: 1.6050 - accuracy: 0.2321 - val_loss: 1.5958 - val_accuracy: 0.2263\n",
      "Epoch 3/15\n",
      "232/232 [==============================] - 262s 1s/step - loss: 1.6017 - accuracy: 0.2247 - val_loss: 1.5924 - val_accuracy: 0.2480\n",
      "Epoch 4/15\n",
      "232/232 [==============================] - 260s 1s/step - loss: 1.6010 - accuracy: 0.2332 - val_loss: 1.5878 - val_accuracy: 0.2469\n",
      "Epoch 5/15\n",
      "232/232 [==============================] - 264s 1s/step - loss: 1.6021 - accuracy: 0.2280 - val_loss: 1.5906 - val_accuracy: 0.2859\n",
      "Epoch 6/15\n",
      "232/232 [==============================] - 261s 1s/step - loss: 1.6020 - accuracy: 0.2284 - val_loss: 1.5869 - val_accuracy: 0.2876\n",
      "Epoch 7/15\n",
      "232/232 [==============================] - 253s 1s/step - loss: 1.6026 - accuracy: 0.2303 - val_loss: 1.5784 - val_accuracy: 0.2973\n",
      "Epoch 8/15\n",
      "232/232 [==============================] - 254s 1s/step - loss: 1.6000 - accuracy: 0.2361 - val_loss: 1.5919 - val_accuracy: 0.2507\n",
      "Epoch 9/15\n",
      "232/232 [==============================] - 253s 1s/step - loss: 1.5983 - accuracy: 0.2334 - val_loss: 1.5852 - val_accuracy: 0.2214\n",
      "Epoch 10/15\n",
      "232/232 [==============================] - 253s 1s/step - loss: 1.6008 - accuracy: 0.2314 - val_loss: 1.6032 - val_accuracy: 0.2290\n",
      "Epoch 11/15\n",
      "232/232 [==============================] - 253s 1s/step - loss: 1.5994 - accuracy: 0.2332 - val_loss: 1.5847 - val_accuracy: 0.2903\n",
      "Epoch 12/15\n",
      "232/232 [==============================] - 262s 1s/step - loss: 1.6006 - accuracy: 0.2313 - val_loss: 1.5884 - val_accuracy: 0.2838\n",
      "Epoch 13/15\n",
      "232/232 [==============================] - 255s 1s/step - loss: 1.6023 - accuracy: 0.2264 - val_loss: 1.5925 - val_accuracy: 0.2458\n",
      "Epoch 14/15\n",
      "232/232 [==============================] - 253s 1s/step - loss: 1.6027 - accuracy: 0.2309 - val_loss: 1.5899 - val_accuracy: 0.2485\n",
      "Epoch 15/15\n",
      "232/232 [==============================] - 253s 1s/step - loss: 1.6002 - accuracy: 0.2377 - val_loss: 1.5856 - val_accuracy: 0.2794\n"
     ]
    },
    {
     "data": {
      "text/plain": [
       "<keras.callbacks.History at 0x20522d0ffd0>"
      ]
     },
     "execution_count": 24,
     "metadata": {},
     "output_type": "execute_result"
    }
   ],
   "source": [
    "model.fit(\n",
    "    train, validation_data= val, epochs=15, batch_size=32,callbacks=callbacks,\n",
    ")"
   ]
  },
  {
   "cell_type": "code",
   "execution_count": 26,
   "metadata": {},
   "outputs": [],
   "source": [
    "import os\n",
    "filename= 'bert_model_512_v3.h5'\n",
    "\n",
    "# Delete the file if it already exists\n",
    "if os.path.exists(filename):\n",
    "    os.remove(filename)\n",
    "# Save the model\n",
    "model.save(filename)"
   ]
  },
  {
   "cell_type": "markdown",
   "metadata": {},
   "source": [
    "# validating and getting metrics"
   ]
  },
  {
   "cell_type": "code",
   "execution_count": 27,
   "metadata": {},
   "outputs": [],
   "source": [
    "import pandas as pd"
   ]
  },
  {
   "cell_type": "code",
   "execution_count": 28,
   "metadata": {},
   "outputs": [
    {
     "data": {
      "text/html": [
       "<div>\n",
       "<style scoped>\n",
       "    .dataframe tbody tr th:only-of-type {\n",
       "        vertical-align: middle;\n",
       "    }\n",
       "\n",
       "    .dataframe tbody tr th {\n",
       "        vertical-align: top;\n",
       "    }\n",
       "\n",
       "    .dataframe thead th {\n",
       "        text-align: right;\n",
       "    }\n",
       "</style>\n",
       "<table border=\"1\" class=\"dataframe\">\n",
       "  <thead>\n",
       "    <tr style=\"text-align: right;\">\n",
       "      <th></th>\n",
       "      <th>text</th>\n",
       "      <th>category</th>\n",
       "    </tr>\n",
       "  </thead>\n",
       "  <tbody>\n",
       "    <tr>\n",
       "      <th>0</th>\n",
       "      <td>¡ Hola ! Soy Ghita_Guerssel marroqui de fez , ...</td>\n",
       "      <td>A1</td>\n",
       "    </tr>\n",
       "    <tr>\n",
       "      <th>1</th>\n",
       "      <td>Hola Manuela , Tengo un_poco de tiempo libre y...</td>\n",
       "      <td>A1</td>\n",
       "    </tr>\n",
       "    <tr>\n",
       "      <th>2</th>\n",
       "      <td>Buenas días , Soy Tara , una visitante de los ...</td>\n",
       "      <td>A2</td>\n",
       "    </tr>\n",
       "    <tr>\n",
       "      <th>3</th>\n",
       "      <td>Me llamo Federico estoy escribiendo esté a la ...</td>\n",
       "      <td>C1</td>\n",
       "    </tr>\n",
       "    <tr>\n",
       "      <th>4</th>\n",
       "      <td>Buenos dias , Por_favor , quiero reservar una ...</td>\n",
       "      <td>A2</td>\n",
       "    </tr>\n",
       "    <tr>\n",
       "      <th>...</th>\n",
       "      <td>...</td>\n",
       "      <td>...</td>\n",
       "    </tr>\n",
       "    <tr>\n",
       "      <th>2891</th>\n",
       "      <td>Hola qué tal ? Soy soltero , tengo 7 hermanos ...</td>\n",
       "      <td>A1</td>\n",
       "    </tr>\n",
       "    <tr>\n",
       "      <th>2892</th>\n",
       "      <td>Próhibo fumar en lugares públicos , es para mí...</td>\n",
       "      <td>B2</td>\n",
       "    </tr>\n",
       "    <tr>\n",
       "      <th>2893</th>\n",
       "      <td>¡ Hola ! Me llamo Mustapha . Mi familia es gra...</td>\n",
       "      <td>A1</td>\n",
       "    </tr>\n",
       "    <tr>\n",
       "      <th>2894</th>\n",
       "      <td>Soy Sarah de Oran , quiero reservar una habita...</td>\n",
       "      <td>A2</td>\n",
       "    </tr>\n",
       "    <tr>\n",
       "      <th>2895</th>\n",
       "      <td>Muy senores mios : les saludio atentamente . F...</td>\n",
       "      <td>C1</td>\n",
       "    </tr>\n",
       "  </tbody>\n",
       "</table>\n",
       "<p>2896 rows × 2 columns</p>\n",
       "</div>"
      ],
      "text/plain": [
       "                                                   text category\n",
       "0     ¡ Hola ! Soy Ghita_Guerssel marroqui de fez , ...       A1\n",
       "1     Hola Manuela , Tengo un_poco de tiempo libre y...       A1\n",
       "2     Buenas días , Soy Tara , una visitante de los ...       A2\n",
       "3     Me llamo Federico estoy escribiendo esté a la ...       C1\n",
       "4     Buenos dias , Por_favor , quiero reservar una ...       A2\n",
       "...                                                 ...      ...\n",
       "2891  Hola qué tal ? Soy soltero , tengo 7 hermanos ...       A1\n",
       "2892  Próhibo fumar en lugares públicos , es para mí...       B2\n",
       "2893  ¡ Hola ! Me llamo Mustapha . Mi familia es gra...       A1\n",
       "2894  Soy Sarah de Oran , quiero reservar una habita...       A2\n",
       "2895  Muy senores mios : les saludio atentamente . F...       C1\n",
       "\n",
       "[2896 rows x 2 columns]"
      ]
     },
     "execution_count": 28,
     "metadata": {},
     "output_type": "execute_result"
    }
   ],
   "source": [
    "# Specify the file path where you want to save the CSV file\n",
    "file_path = 'val_data.csv'\n",
    "loaded_df = pd.read_csv(file_path)\n",
    "loaded_df"
   ]
  },
  {
   "cell_type": "code",
   "execution_count": 29,
   "metadata": {},
   "outputs": [],
   "source": [
    "from transformers import AutoTokenizer\n",
    "\n",
    "#2847 Iis the max lenght of the texts\n",
    "SEQ_LEN = 512\n",
    "\n",
    "#i chose bert-base-cased because for me it's important to recognize the capital letters \n",
    "# in the text to identify the language level\n",
    "tokenizer = AutoTokenizer.from_pretrained(\"dccuchile/bert-base-spanish-wwm-cased\")"
   ]
  },
  {
   "cell_type": "code",
   "execution_count": 30,
   "metadata": {},
   "outputs": [],
   "source": [
    "Xids = []\n",
    "Xmask = []"
   ]
  },
  {
   "cell_type": "code",
   "execution_count": 31,
   "metadata": {},
   "outputs": [],
   "source": [
    "import numpy as np\n",
    "\n",
    "Xids= np.zeros((len(loaded_df), SEQ_LEN))\n",
    "Xmask= np.zeros((len(loaded_df), SEQ_LEN))"
   ]
  },
  {
   "cell_type": "code",
   "execution_count": 32,
   "metadata": {},
   "outputs": [],
   "source": [
    "#casting text to String\n",
    "loaded_df['text'] = loaded_df['text'].astype(str)"
   ]
  },
  {
   "cell_type": "code",
   "execution_count": 33,
   "metadata": {},
   "outputs": [],
   "source": [
    "#checking type\n",
    "for i, sequence in enumerate(loaded_df['text']):\n",
    "    if not isinstance(sequence, str):\n",
    "        print(f\"Warning: 'text' at index {i} is not a string: {sequence}\")"
   ]
  },
  {
   "cell_type": "code",
   "execution_count": 34,
   "metadata": {},
   "outputs": [],
   "source": [
    "for i, sequence in enumerate(loaded_df['text']):\n",
    "    encoded_token = tokenizer.encode_plus(\n",
    "        sequence, \n",
    "        max_length= SEQ_LEN, \n",
    "        truncation= True, \n",
    "        padding= \"max_length\",\n",
    "        add_special_tokens = True,\n",
    "        return_token_type_ids = False,\n",
    "        return_attention_mask = True,\n",
    "        return_tensors = 'tf'\n",
    "    )\n",
    "    Xids[i,:], Xmask[i,:] = encoded_token['input_ids'],encoded_token['attention_mask']"
   ]
  },
  {
   "cell_type": "code",
   "execution_count": 35,
   "metadata": {},
   "outputs": [
    {
     "name": "stdout",
     "output_type": "stream",
     "text": [
      "     category  numerical_category\n",
      "0          A1                   0\n",
      "1          A1                   0\n",
      "2          A2                   1\n",
      "3          C1                   4\n",
      "4          A2                   1\n",
      "...       ...                 ...\n",
      "2891       A1                   0\n",
      "2892       B2                   3\n",
      "2893       A1                   0\n",
      "2894       A2                   1\n",
      "2895       C1                   4\n",
      "\n",
      "[2896 rows x 2 columns]\n"
     ]
    }
   ],
   "source": [
    "from sklearn.preprocessing import LabelEncoder\n",
    "\n",
    "# Create a LabelEncoder instance\n",
    "label_encoder = LabelEncoder()\n",
    "\n",
    "# Fit the encoder to the unique category strings and transform the 'category' column\n",
    "loaded_df['numerical_category'] = label_encoder.fit_transform(loaded_df['category'])\n",
    "\n",
    "# Display the DataFrame with the new 'numerical_category' column\n",
    "print(loaded_df[['category', 'numerical_category']])\n"
   ]
  },
  {
   "cell_type": "code",
   "execution_count": 36,
   "metadata": {},
   "outputs": [
    {
     "data": {
      "text/plain": [
       "2896"
      ]
     },
     "execution_count": 36,
     "metadata": {},
     "output_type": "execute_result"
    }
   ],
   "source": [
    "arr = loaded_df['numerical_category'].values\n",
    "arr.size"
   ]
  },
  {
   "cell_type": "code",
   "execution_count": 37,
   "metadata": {},
   "outputs": [
    {
     "data": {
      "text/plain": [
       "(2896, 5)"
      ]
     },
     "execution_count": 37,
     "metadata": {},
     "output_type": "execute_result"
    }
   ],
   "source": [
    "labels = np.zeros((arr.size, arr.max()+1))\n",
    "labels.shape"
   ]
  },
  {
   "cell_type": "code",
   "execution_count": 38,
   "metadata": {},
   "outputs": [
    {
     "data": {
      "text/plain": [
       "array([[1., 0., 0., 0., 0.],\n",
       "       [1., 0., 0., 0., 0.],\n",
       "       [0., 1., 0., 0., 0.],\n",
       "       ...,\n",
       "       [1., 0., 0., 0., 0.],\n",
       "       [0., 1., 0., 0., 0.],\n",
       "       [0., 0., 0., 0., 1.]])"
      ]
     },
     "execution_count": 38,
     "metadata": {},
     "output_type": "execute_result"
    }
   ],
   "source": [
    "labels[np.arange(arr.size), arr] = 1\n",
    "labels"
   ]
  },
  {
   "cell_type": "code",
   "execution_count": 39,
   "metadata": {},
   "outputs": [
    {
     "name": "stdout",
     "output_type": "stream",
     "text": [
      "91/91 [==============================] - 71s 749ms/step\n"
     ]
    },
    {
     "data": {
      "text/plain": [
       "array([[0.21532606, 0.19293718, 0.19602685, 0.22317193, 0.17253798],\n",
       "       [0.21437171, 0.1878976 , 0.20057355, 0.2022861 , 0.19487104],\n",
       "       [0.21517397, 0.1919368 , 0.19648041, 0.22146596, 0.1749428 ],\n",
       "       ...,\n",
       "       [0.21439433, 0.18759578, 0.19831614, 0.21417353, 0.18552023],\n",
       "       [0.21184906, 0.20132507, 0.19223052, 0.22128414, 0.1733112 ],\n",
       "       [0.21436872, 0.18795134, 0.20073025, 0.20142293, 0.1955268 ]],\n",
       "      dtype=float32)"
      ]
     },
     "execution_count": 39,
     "metadata": {},
     "output_type": "execute_result"
    }
   ],
   "source": [
    "saved_predictions = model.predict({'input_ids': Xids, 'attention_mask' : Xmask})\n",
    "saved_predictions"
   ]
  },
  {
   "cell_type": "code",
   "execution_count": 40,
   "metadata": {},
   "outputs": [
    {
     "data": {
      "text/plain": [
       "array([3, 0, 3, ..., 0, 3, 0], dtype=int64)"
      ]
     },
     "execution_count": 40,
     "metadata": {},
     "output_type": "execute_result"
    }
   ],
   "source": [
    "import numpy as np\n",
    "\n",
    "# Assuming predictions is the array you provided\n",
    "predictions = np.array(saved_predictions)\n",
    "\n",
    "# Get the class label or index with the highest probability\n",
    "predicted_class = np.argmax(predictions, axis=1)\n",
    "\n",
    "# Assuming you have a list of class labels\n",
    "class_labels = [\"A1\", \"A2\", \"B1\", \"B2\", \"C1\"]\n",
    "predicted_class\n"
   ]
  },
  {
   "cell_type": "code",
   "execution_count": 41,
   "metadata": {},
   "outputs": [
    {
     "data": {
      "text/plain": [
       "array([0, 0, 1, ..., 0, 1, 4], dtype=int64)"
      ]
     },
     "execution_count": 41,
     "metadata": {},
     "output_type": "execute_result"
    }
   ],
   "source": [
    "# Get the class label or index with the highest probability\n",
    "true_labels = np.argmax(labels, axis=1)\n",
    "true_labels"
   ]
  },
  {
   "cell_type": "code",
   "execution_count": 42,
   "metadata": {},
   "outputs": [
    {
     "data": {
      "image/png": "[encoded data removed]",
      "text/plain": [
       "<Figure size 640x480 with 2 Axes>"
      ]
     },
     "metadata": {},
     "output_type": "display_data"
    }
   ],
   "source": [
    "import numpy as np\n",
    "from sklearn.metrics import confusion_matrix\n",
    "import matplotlib.pyplot as plt\n",
    "\n",
    "# Compute confusion matrix\n",
    "cm = confusion_matrix(true_labels, predicted_class)\n",
    "\n",
    "# Display confusion matrix as a table\n",
    "fig, ax = plt.subplots()\n",
    "im = ax.imshow(cm, cmap='Blues')\n",
    "\n",
    "# Customize the plot\n",
    "ax.set_xticks(np.arange(cm.shape[1]))\n",
    "ax.set_yticks(np.arange(cm.shape[0]))\n",
    "ax.set_xticklabels(['A1', 'A2', 'B1','B2', 'C1'])\n",
    "ax.set_yticklabels(['A1', 'A2', 'B1','B2', 'C1'])\n",
    "plt.xlabel(\"original\")\n",
    "plt.ylabel(\"predicted\")\n",
    "\n",
    "# Add values inside the confusion matrix cells\n",
    "for i in range(cm.shape[0]):\n",
    "    for j in range(cm.shape[1]):\n",
    "        color = 'white' if cm[i, j] > cm.max() / 2 else 'black'  # Set font color based on the cell value\n",
    "        ax.text(j, i, cm[i, j], ha=\"center\", va=\"center\", color=color)\n",
    "\n",
    "plt.title(\"Confusion Matrix\")\n",
    "plt.colorbar(im)\n",
    "plt.show()"
   ]
  },
  {
   "cell_type": "code",
   "execution_count": 43,
   "metadata": {},
   "outputs": [
    {
     "name": "stdout",
     "output_type": "stream",
     "text": [
      "Precision: 0.20384153329181456\n",
      "Recall: 0.26039757829423016\n",
      "F1-score: 0.21181242114151505\n"
     ]
    },
    {
     "name": "stderr",
     "output_type": "stream",
     "text": [
      "e:\\python_enviroments\\envs\\nlpenv\\lib\\site-packages\\sklearn\\metrics\\_classification.py:1469: UndefinedMetricWarning: Precision is ill-defined and being set to 0.0 in labels with no predicted samples. Use `zero_division` parameter to control this behavior.\n",
      "  _warn_prf(average, modifier, msg_start, len(result))\n"
     ]
    }
   ],
   "source": [
    "from sklearn.metrics import precision_score, recall_score, f1_score\n",
    "\n",
    "# Compute precision, recall, and F1-score\n",
    "precision = precision_score(true_labels, predicted_class, average='macro')\n",
    "recall = recall_score(true_labels, predicted_class, average='macro')\n",
    "f1 = f1_score(true_labels, predicted_class, average='macro')\n",
    "\n",
    "# Print the metrics\n",
    "print(\"Precision:\", precision)\n",
    "print(\"Recall:\", recall)\n",
    "print(\"F1-score:\", f1)"
   ]
  },
  {
   "cell_type": "code",
   "execution_count": 44,
   "metadata": {},
   "outputs": [
    {
     "name": "stdout",
     "output_type": "stream",
     "text": [
      "              precision    recall  f1-score   support\n",
      "\n",
      "           0       0.20      0.24      0.22       599\n",
      "           1       0.33      0.28      0.30       566\n",
      "           2       0.00      0.00      0.00       607\n",
      "           3       0.27      0.66      0.38       559\n",
      "           4       0.23      0.13      0.16       565\n",
      "\n",
      "    accuracy                           0.26      2896\n",
      "   macro avg       0.20      0.26      0.21      2896\n",
      "weighted avg       0.20      0.26      0.21      2896\n",
      "\n"
     ]
    },
    {
     "name": "stderr",
     "output_type": "stream",
     "text": [
      "e:\\python_enviroments\\envs\\nlpenv\\lib\\site-packages\\sklearn\\metrics\\_classification.py:1469: UndefinedMetricWarning: Precision and F-score are ill-defined and being set to 0.0 in labels with no predicted samples. Use `zero_division` parameter to control this behavior.\n",
      "  _warn_prf(average, modifier, msg_start, len(result))\n",
      "e:\\python_enviroments\\envs\\nlpenv\\lib\\site-packages\\sklearn\\metrics\\_classification.py:1469: UndefinedMetricWarning: Precision and F-score are ill-defined and being set to 0.0 in labels with no predicted samples. Use `zero_division` parameter to control this behavior.\n",
      "  _warn_prf(average, modifier, msg_start, len(result))\n",
      "e:\\python_enviroments\\envs\\nlpenv\\lib\\site-packages\\sklearn\\metrics\\_classification.py:1469: UndefinedMetricWarning: Precision and F-score are ill-defined and being set to 0.0 in labels with no predicted samples. Use `zero_division` parameter to control this behavior.\n",
      "  _warn_prf(average, modifier, msg_start, len(result))\n"
     ]
    }
   ],
   "source": [
    "from sklearn.metrics import classification_report\n",
    "\n",
    "# Get the class with the highest probability as the predicted class\n",
    "predicted_classes = [np.argmax(pred) for pred in predictions]\n",
    "\n",
    "# Generate the classification report\n",
    "report = classification_report(true_labels, predicted_classes)\n",
    "\n",
    "# Print the classification report\n",
    "print(report)\n"
   ]
  },
  {
   "cell_type": "code",
   "execution_count": 45,
   "metadata": {},
   "outputs": [
    {
     "data": {
      "text/plain": [
       "{'status': 'ok', 'restart': True}"
      ]
     },
     "execution_count": 45,
     "metadata": {},
     "output_type": "execute_result"
    },
    {
     "ename": "",
     "evalue": "",
     "output_type": "error",
     "traceback": [
      "\u001b[1;31mThe Kernel crashed while executing code in the the current cell or a previous cell. Please review the code in the cell(s) to identify a possible cause of the failure. Click <a href='https://aka.ms/vscodeJupyterKernelCrash'>here</a> for more info. View Jupyter <a href='command:jupyter.viewOutput'>log</a> for further details."
     ]
    }
   ],
   "source": [
    "# kill kernel\n",
    "\n",
    "import IPython\n",
    "app = IPython.Application.instance()\n",
    "app.kernel.do_shutdown(True)"
   ]
  }
 ],
 "metadata": {
  "kernelspec": {
   "display_name": "nlpenv",
   "language": "python",
   "name": "python3"
  },
  "language_info": {
   "codemirror_mode": {
    "name": "ipython",
    "version": 3
   },
   "file_extension": ".py",
   "mimetype": "text/x-python",
   "name": "python",
   "nbconvert_exporter": "python",
   "pygments_lexer": "ipython3",
   "version": "3.10.10"
  }
 },
 "nbformat": 4,
 "nbformat_minor": 2
}
