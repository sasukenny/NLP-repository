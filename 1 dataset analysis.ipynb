{
 "cells": [
  {
   "cell_type": "code",
   "execution_count": 1,
   "metadata": {},
   "outputs": [
    {
     "name": "stderr",
     "output_type": "stream",
     "text": [
      "e:\\python_enviroments\\envs\\nlpenv\\lib\\site-packages\\tqdm\\auto.py:21: TqdmWarning: IProgress not found. Please update jupyter and ipywidgets. See https://ipywidgets.readthedocs.io/en/stable/user_install.html\n",
      "  from .autonotebook import tqdm as notebook_tqdm\n"
     ]
    }
   ],
   "source": [
    "from datasets import load_dataset\n",
    "\n",
    "dataset = load_dataset(\"hackathon-pln-es/readability-es-caes\")"
   ]
  },
  {
   "cell_type": "code",
   "execution_count": 2,
   "metadata": {},
   "outputs": [
    {
     "data": {
      "text/plain": [
       "DatasetDict({\n",
       "    train: Dataset({\n",
       "        features: ['category', 'text', 'level', 'level-3'],\n",
       "        num_rows: 31149\n",
       "    })\n",
       "})"
      ]
     },
     "execution_count": 2,
     "metadata": {},
     "output_type": "execute_result"
    }
   ],
   "source": [
    "dataset"
   ]
  },
  {
   "cell_type": "code",
   "execution_count": 3,
   "metadata": {},
   "outputs": [],
   "source": [
    "train_data = dataset[\"train\"]"
   ]
  },
  {
   "cell_type": "markdown",
   "metadata": {},
   "source": [
    "# Data Analysis"
   ]
  },
  {
   "cell_type": "code",
   "execution_count": 4,
   "metadata": {},
   "outputs": [],
   "source": [
    "# Import necessary libraries\n",
    "import pandas as pd"
   ]
  },
  {
   "cell_type": "code",
   "execution_count": 5,
   "metadata": {},
   "outputs": [],
   "source": [
    "# Convert the dataset to a Pandas DataFrame for exploration\n",
    "df = pd.DataFrame(train_data)"
   ]
  },
  {
   "cell_type": "code",
   "execution_count": 6,
   "metadata": {},
   "outputs": [
    {
     "data": {
      "text/html": [
       "<div>\n",
       "<style scoped>\n",
       "    .dataframe tbody tr th:only-of-type {\n",
       "        vertical-align: middle;\n",
       "    }\n",
       "\n",
       "    .dataframe tbody tr th {\n",
       "        vertical-align: top;\n",
       "    }\n",
       "\n",
       "    .dataframe thead th {\n",
       "        text-align: right;\n",
       "    }\n",
       "</style>\n",
       "<table border=\"1\" class=\"dataframe\">\n",
       "  <thead>\n",
       "    <tr style=\"text-align: right;\">\n",
       "      <th></th>\n",
       "      <th>category</th>\n",
       "      <th>text</th>\n",
       "      <th>level</th>\n",
       "      <th>level-3</th>\n",
       "    </tr>\n",
       "  </thead>\n",
       "  <tbody>\n",
       "    <tr>\n",
       "      <th>0</th>\n",
       "      <td>B1</td>\n",
       "      <td>Hola Carlos ! Hace mucho que no te veo hombre ...</td>\n",
       "      <td>simple</td>\n",
       "      <td>intermediate</td>\n",
       "    </tr>\n",
       "    <tr>\n",
       "      <th>1</th>\n",
       "      <td>A2</td>\n",
       "      <td>Hola querida Sara , espero que estes muy bien ...</td>\n",
       "      <td>simple</td>\n",
       "      <td>basic</td>\n",
       "    </tr>\n",
       "    <tr>\n",
       "      <th>2</th>\n",
       "      <td>A1</td>\n",
       "      <td>Como estais ? ! Hola amigos ! ? Espero que tod...</td>\n",
       "      <td>simple</td>\n",
       "      <td>basic</td>\n",
       "    </tr>\n",
       "    <tr>\n",
       "      <th>3</th>\n",
       "      <td>A2</td>\n",
       "      <td>Cuando llegué a el destino , le propuso que si...</td>\n",
       "      <td>simple</td>\n",
       "      <td>basic</td>\n",
       "    </tr>\n",
       "    <tr>\n",
       "      <th>4</th>\n",
       "      <td>A1</td>\n",
       "      <td>¿ Que tal ? un beso Espero que todo va bien po...</td>\n",
       "      <td>simple</td>\n",
       "      <td>basic</td>\n",
       "    </tr>\n",
       "    <tr>\n",
       "      <th>...</th>\n",
       "      <td>...</td>\n",
       "      <td>...</td>\n",
       "      <td>...</td>\n",
       "      <td>...</td>\n",
       "    </tr>\n",
       "    <tr>\n",
       "      <th>31144</th>\n",
       "      <td>B1</td>\n",
       "      <td>Buenas tardes ! 29_de_mayo_de_2019 salamanca Q...</td>\n",
       "      <td>simple</td>\n",
       "      <td>intermediate</td>\n",
       "    </tr>\n",
       "    <tr>\n",
       "      <th>31145</th>\n",
       "      <td>B2</td>\n",
       "      <td>Tengo la seguridad de mí mismo para contener e...</td>\n",
       "      <td>complex</td>\n",
       "      <td>intermediate</td>\n",
       "    </tr>\n",
       "    <tr>\n",
       "      <th>31146</th>\n",
       "      <td>B1</td>\n",
       "      <td>Distinguidos señor / señra : Hola , gerente . ...</td>\n",
       "      <td>simple</td>\n",
       "      <td>intermediate</td>\n",
       "    </tr>\n",
       "    <tr>\n",
       "      <th>31147</th>\n",
       "      <td>B2</td>\n",
       "      <td>Le escribo esta carta porque me gustaría inmen...</td>\n",
       "      <td>complex</td>\n",
       "      <td>intermediate</td>\n",
       "    </tr>\n",
       "    <tr>\n",
       "      <th>31148</th>\n",
       "      <td>A1</td>\n",
       "      <td>Me gusta ir a Mallorca y me gusta espeicalment...</td>\n",
       "      <td>simple</td>\n",
       "      <td>basic</td>\n",
       "    </tr>\n",
       "  </tbody>\n",
       "</table>\n",
       "<p>31149 rows × 4 columns</p>\n",
       "</div>"
      ],
      "text/plain": [
       "      category                                               text    level  \\\n",
       "0           B1  Hola Carlos ! Hace mucho que no te veo hombre ...   simple   \n",
       "1           A2  Hola querida Sara , espero que estes muy bien ...   simple   \n",
       "2           A1  Como estais ? ! Hola amigos ! ? Espero que tod...   simple   \n",
       "3           A2  Cuando llegué a el destino , le propuso que si...   simple   \n",
       "4           A1  ¿ Que tal ? un beso Espero que todo va bien po...   simple   \n",
       "...        ...                                                ...      ...   \n",
       "31144       B1  Buenas tardes ! 29_de_mayo_de_2019 salamanca Q...   simple   \n",
       "31145       B2  Tengo la seguridad de mí mismo para contener e...  complex   \n",
       "31146       B1  Distinguidos señor / señra : Hola , gerente . ...   simple   \n",
       "31147       B2  Le escribo esta carta porque me gustaría inmen...  complex   \n",
       "31148       A1  Me gusta ir a Mallorca y me gusta espeicalment...   simple   \n",
       "\n",
       "            level-3  \n",
       "0      intermediate  \n",
       "1             basic  \n",
       "2             basic  \n",
       "3             basic  \n",
       "4             basic  \n",
       "...             ...  \n",
       "31144  intermediate  \n",
       "31145  intermediate  \n",
       "31146  intermediate  \n",
       "31147  intermediate  \n",
       "31148         basic  \n",
       "\n",
       "[31149 rows x 4 columns]"
      ]
     },
     "execution_count": 6,
     "metadata": {},
     "output_type": "execute_result"
    }
   ],
   "source": [
    "df"
   ]
  },
  {
   "cell_type": "code",
   "execution_count": 7,
   "metadata": {},
   "outputs": [
    {
     "data": {
      "text/html": [
       "<div>\n",
       "<style scoped>\n",
       "    .dataframe tbody tr th:only-of-type {\n",
       "        vertical-align: middle;\n",
       "    }\n",
       "\n",
       "    .dataframe tbody tr th {\n",
       "        vertical-align: top;\n",
       "    }\n",
       "\n",
       "    .dataframe thead th {\n",
       "        text-align: right;\n",
       "    }\n",
       "</style>\n",
       "<table border=\"1\" class=\"dataframe\">\n",
       "  <thead>\n",
       "    <tr style=\"text-align: right;\">\n",
       "      <th></th>\n",
       "      <th>category</th>\n",
       "      <th>text</th>\n",
       "      <th>level</th>\n",
       "      <th>level-3</th>\n",
       "    </tr>\n",
       "  </thead>\n",
       "  <tbody>\n",
       "    <tr>\n",
       "      <th>0</th>\n",
       "      <td>B1</td>\n",
       "      <td>Hola Carlos ! Hace mucho que no te veo hombre ...</td>\n",
       "      <td>simple</td>\n",
       "      <td>intermediate</td>\n",
       "    </tr>\n",
       "    <tr>\n",
       "      <th>1</th>\n",
       "      <td>A2</td>\n",
       "      <td>Hola querida Sara , espero que estes muy bien ...</td>\n",
       "      <td>simple</td>\n",
       "      <td>basic</td>\n",
       "    </tr>\n",
       "    <tr>\n",
       "      <th>2</th>\n",
       "      <td>A1</td>\n",
       "      <td>Como estais ? ! Hola amigos ! ? Espero que tod...</td>\n",
       "      <td>simple</td>\n",
       "      <td>basic</td>\n",
       "    </tr>\n",
       "    <tr>\n",
       "      <th>3</th>\n",
       "      <td>A2</td>\n",
       "      <td>Cuando llegué a el destino , le propuso que si...</td>\n",
       "      <td>simple</td>\n",
       "      <td>basic</td>\n",
       "    </tr>\n",
       "    <tr>\n",
       "      <th>4</th>\n",
       "      <td>A1</td>\n",
       "      <td>¿ Que tal ? un beso Espero que todo va bien po...</td>\n",
       "      <td>simple</td>\n",
       "      <td>basic</td>\n",
       "    </tr>\n",
       "    <tr>\n",
       "      <th>5</th>\n",
       "      <td>A1</td>\n",
       "      <td>¿ Cómo estas chica ? Había regresado de México...</td>\n",
       "      <td>simple</td>\n",
       "      <td>basic</td>\n",
       "    </tr>\n",
       "    <tr>\n",
       "      <th>6</th>\n",
       "      <td>A1</td>\n",
       "      <td>Acudí a su compañía la dirección de la cual ví...</td>\n",
       "      <td>simple</td>\n",
       "      <td>basic</td>\n",
       "    </tr>\n",
       "    <tr>\n",
       "      <th>7</th>\n",
       "      <td>A1</td>\n",
       "      <td>Jueves 12_de_Avril 2018 , Como estas ? Hace mu...</td>\n",
       "      <td>simple</td>\n",
       "      <td>basic</td>\n",
       "    </tr>\n",
       "    <tr>\n",
       "      <th>8</th>\n",
       "      <td>B1</td>\n",
       "      <td>Cuando llegué a el destino , le propuso que si...</td>\n",
       "      <td>simple</td>\n",
       "      <td>intermediate</td>\n",
       "    </tr>\n",
       "    <tr>\n",
       "      <th>9</th>\n",
       "      <td>A1</td>\n",
       "      <td>Mi padres , tengo el español clase , desde las...</td>\n",
       "      <td>simple</td>\n",
       "      <td>basic</td>\n",
       "    </tr>\n",
       "  </tbody>\n",
       "</table>\n",
       "</div>"
      ],
      "text/plain": [
       "  category                                               text   level  \\\n",
       "0       B1  Hola Carlos ! Hace mucho que no te veo hombre ...  simple   \n",
       "1       A2  Hola querida Sara , espero que estes muy bien ...  simple   \n",
       "2       A1  Como estais ? ! Hola amigos ! ? Espero que tod...  simple   \n",
       "3       A2  Cuando llegué a el destino , le propuso que si...  simple   \n",
       "4       A1  ¿ Que tal ? un beso Espero que todo va bien po...  simple   \n",
       "5       A1  ¿ Cómo estas chica ? Había regresado de México...  simple   \n",
       "6       A1  Acudí a su compañía la dirección de la cual ví...  simple   \n",
       "7       A1  Jueves 12_de_Avril 2018 , Como estas ? Hace mu...  simple   \n",
       "8       B1  Cuando llegué a el destino , le propuso que si...  simple   \n",
       "9       A1  Mi padres , tengo el español clase , desde las...  simple   \n",
       "\n",
       "        level-3  \n",
       "0  intermediate  \n",
       "1         basic  \n",
       "2         basic  \n",
       "3         basic  \n",
       "4         basic  \n",
       "5         basic  \n",
       "6         basic  \n",
       "7         basic  \n",
       "8  intermediate  \n",
       "9         basic  "
      ]
     },
     "execution_count": 7,
     "metadata": {},
     "output_type": "execute_result"
    }
   ],
   "source": [
    "df.iloc[0:10] #testing 10 first row"
   ]
  },
  {
   "cell_type": "code",
   "execution_count": 8,
   "metadata": {},
   "outputs": [
    {
     "data": {
      "text/plain": [
       "'Hola Carlos ! Hace mucho que no te veo hombre ! Cómo está tu vida ? Trabajando muchísimo como siempre , no ? Continuas en el Instituto_Cervantes ahí de España ? Espero que sí , pues tu trabajo es buenísimo . Y por_favor , dí me lo ! Todavía vives con Maria ? ya estáis casados o sigues soltero ? Yo sigo soltera como siempre , tu sabes , hay cosas que no cambian . Pero tengo que contar te lo de Cláudia , está casada con Francisco , te acuerdas de Francisco ? El chico rubio de nuestra clase , el que no hablaba con nadie . Pues esta casada con el , y ella también ya no habla con nadie . Intento llamar la por teléfono pero sin respuestas . Es una lástima pues erámos muy amigas . Ya sabes , Carlos , que voy a viajar a Europa el próximo año . Voy a quedar me en Francia estudiando por seis meses . Después de esto tendré un més para quedar me donde quiera , por eso he pensado en visitar te . Sabes cuanto me gustaría conocer Madrid y , además , te echo de menos , pues hace mucho tiempo que no vuelves a el Brasil .'"
      ]
     },
     "execution_count": 8,
     "metadata": {},
     "output_type": "execute_result"
    }
   ],
   "source": [
    "df[\"text\"][0]  # only text"
   ]
  },
  {
   "cell_type": "markdown",
   "metadata": {},
   "source": [
    "## Checking categories"
   ]
  },
  {
   "cell_type": "code",
   "execution_count": 9,
   "metadata": {},
   "outputs": [
    {
     "data": {
      "text/plain": [
       "category\n",
       "A2    8582\n",
       "A1    8261\n",
       "B1    6510\n",
       "B2    4729\n",
       "C1    3067\n",
       "Name: count, dtype: int64"
      ]
     },
     "execution_count": 9,
     "metadata": {},
     "output_type": "execute_result"
    }
   ],
   "source": [
    "# Count the number of elements per category\n",
    "category_counts = df[\"category\"].value_counts()\n",
    "category_counts"
   ]
  },
  {
   "cell_type": "code",
   "execution_count": 10,
   "metadata": {},
   "outputs": [
    {
     "data": {
      "image/png": "[encoded data removed]",
      "text/plain": [
       "<Figure size 640x480 with 1 Axes>"
      ]
     },
     "metadata": {},
     "output_type": "display_data"
    }
   ],
   "source": [
    "import matplotlib.pyplot as plt\n",
    "df['category'].hist()\n",
    "plt.xlabel('Value')\n",
    "plt.ylabel('Frequency')\n",
    "plt.title('Histogram of Categories')\n",
    "plt.show()\n"
   ]
  },
  {
   "cell_type": "markdown",
   "metadata": {},
   "source": [
    "Counting the number of elements per category we could figure out that the data is unbalanced which can make some issues in the accuracy prediction for the categories with less data.\n",
    "We need to use some techniques to balance the data."
   ]
  },
  {
   "cell_type": "markdown",
   "metadata": {},
   "source": [
    "## Verifying column's Dtypes"
   ]
  },
  {
   "cell_type": "code",
   "execution_count": 11,
   "metadata": {},
   "outputs": [
    {
     "data": {
      "text/html": [
       "<div>\n",
       "<style scoped>\n",
       "    .dataframe tbody tr th:only-of-type {\n",
       "        vertical-align: middle;\n",
       "    }\n",
       "\n",
       "    .dataframe tbody tr th {\n",
       "        vertical-align: top;\n",
       "    }\n",
       "\n",
       "    .dataframe thead th {\n",
       "        text-align: right;\n",
       "    }\n",
       "</style>\n",
       "<table border=\"1\" class=\"dataframe\">\n",
       "  <thead>\n",
       "    <tr style=\"text-align: right;\">\n",
       "      <th></th>\n",
       "      <th>category</th>\n",
       "      <th>text</th>\n",
       "      <th>level</th>\n",
       "      <th>level-3</th>\n",
       "    </tr>\n",
       "  </thead>\n",
       "  <tbody>\n",
       "    <tr>\n",
       "      <th>count</th>\n",
       "      <td>31149</td>\n",
       "      <td>30935</td>\n",
       "      <td>31149</td>\n",
       "      <td>31149</td>\n",
       "    </tr>\n",
       "    <tr>\n",
       "      <th>unique</th>\n",
       "      <td>5</td>\n",
       "      <td>20630</td>\n",
       "      <td>2</td>\n",
       "      <td>3</td>\n",
       "    </tr>\n",
       "    <tr>\n",
       "      <th>top</th>\n",
       "      <td>A2</td>\n",
       "      <td>Hola amiga , Buenas Tardes .</td>\n",
       "      <td>simple</td>\n",
       "      <td>basic</td>\n",
       "    </tr>\n",
       "    <tr>\n",
       "      <th>freq</th>\n",
       "      <td>8582</td>\n",
       "      <td>20</td>\n",
       "      <td>23353</td>\n",
       "      <td>16843</td>\n",
       "    </tr>\n",
       "  </tbody>\n",
       "</table>\n",
       "</div>"
      ],
      "text/plain": [
       "       category                          text   level level-3\n",
       "count     31149                         30935   31149   31149\n",
       "unique        5                         20630       2       3\n",
       "top          A2  Hola amiga , Buenas Tardes .  simple   basic\n",
       "freq       8582                            20   23353   16843"
      ]
     },
     "execution_count": 11,
     "metadata": {},
     "output_type": "execute_result"
    }
   ],
   "source": [
    "df.describe()"
   ]
  },
  {
   "cell_type": "code",
   "execution_count": 12,
   "metadata": {},
   "outputs": [
    {
     "name": "stdout",
     "output_type": "stream",
     "text": [
      "<class 'pandas.core.frame.DataFrame'>\n",
      "RangeIndex: 31149 entries, 0 to 31148\n",
      "Data columns (total 4 columns):\n",
      " #   Column    Non-Null Count  Dtype \n",
      "---  ------    --------------  ----- \n",
      " 0   category  31149 non-null  object\n",
      " 1   text      30935 non-null  object\n",
      " 2   level     31149 non-null  object\n",
      " 3   level-3   31149 non-null  object\n",
      "dtypes: object(4)\n",
      "memory usage: 973.5+ KB\n"
     ]
    }
   ],
   "source": [
    "df.info()"
   ]
  },
  {
   "cell_type": "code",
   "execution_count": 13,
   "metadata": {},
   "outputs": [],
   "source": [
    "#casting text to String\n",
    "df['text'] = df['text'].astype(str)"
   ]
  },
  {
   "cell_type": "code",
   "execution_count": 14,
   "metadata": {},
   "outputs": [
    {
     "name": "stdout",
     "output_type": "stream",
     "text": [
      "<class 'pandas.core.frame.DataFrame'>\n",
      "RangeIndex: 31149 entries, 0 to 31148\n",
      "Data columns (total 4 columns):\n",
      " #   Column    Non-Null Count  Dtype \n",
      "---  ------    --------------  ----- \n",
      " 0   category  31149 non-null  object\n",
      " 1   text      31149 non-null  object\n",
      " 2   level     31149 non-null  object\n",
      " 3   level-3   31149 non-null  object\n",
      "dtypes: object(4)\n",
      "memory usage: 973.5+ KB\n"
     ]
    }
   ],
   "source": [
    "df.info()"
   ]
  },
  {
   "cell_type": "code",
   "execution_count": 15,
   "metadata": {},
   "outputs": [
    {
     "data": {
      "text/plain": [
       "2847"
      ]
     },
     "execution_count": 15,
     "metadata": {},
     "output_type": "execute_result"
    }
   ],
   "source": [
    "# Initialize a variable to store the maximum text length\n",
    "max_text_length = max(len(example[\"text\"]) for example in train_data if example[\"text\"] is not None)\n",
    "max_text_length"
   ]
  },
  {
   "cell_type": "markdown",
   "metadata": {},
   "source": [
    "# let's filter the rows based on text lenght less than 512"
   ]
  },
  {
   "cell_type": "code",
   "execution_count": 16,
   "metadata": {},
   "outputs": [
    {
     "data": {
      "text/plain": [
       "2847"
      ]
     },
     "execution_count": 16,
     "metadata": {},
     "output_type": "execute_result"
    }
   ],
   "source": [
    "max_length = df['text'].apply(len).max()\n",
    "max_length"
   ]
  },
  {
   "cell_type": "code",
   "execution_count": 17,
   "metadata": {},
   "outputs": [
    {
     "data": {
      "text/plain": [
       "(31149, 4)"
      ]
     },
     "execution_count": 17,
     "metadata": {},
     "output_type": "execute_result"
    }
   ],
   "source": [
    "df.shape"
   ]
  },
  {
   "cell_type": "markdown",
   "metadata": {},
   "source": [
    "so the max lenght of the text samples is 2847 units."
   ]
  },
  {
   "cell_type": "code",
   "execution_count": 18,
   "metadata": {},
   "outputs": [],
   "source": [
    "filtered_df = df[df['text'].apply(len) < 512]"
   ]
  },
  {
   "cell_type": "code",
   "execution_count": 19,
   "metadata": {},
   "outputs": [
    {
     "data": {
      "text/plain": [
       "(7424, 4)"
      ]
     },
     "execution_count": 19,
     "metadata": {},
     "output_type": "execute_result"
    }
   ],
   "source": [
    "filtered_df.shape"
   ]
  },
  {
   "cell_type": "markdown",
   "metadata": {},
   "source": [
    "we have 7424 rows that have a lenght less than 512"
   ]
  },
  {
   "cell_type": "markdown",
   "metadata": {},
   "source": [
    "## Checking None Values\n"
   ]
  },
  {
   "cell_type": "code",
   "execution_count": 20,
   "metadata": {},
   "outputs": [
    {
     "name": "stdout",
     "output_type": "stream",
     "text": [
      "There are no None values in the 'text' column.\n"
     ]
    }
   ],
   "source": [
    "# Check if there are any None values in the \"text\" column\n",
    "has_none_values = df[\"text\"].isna().any()\n",
    "\n",
    "if has_none_values:\n",
    "    print(\"There are None values in the 'text' column.\")\n",
    "else:\n",
    "    print(\"There are no None values in the 'text' column.\")\n"
   ]
  },
  {
   "cell_type": "markdown",
   "metadata": {},
   "source": [
    "## Conclusions\n",
    "we can conlcude the following:\n",
    "- the data is unbalanced thus it's necessary apply some balancing techniques\n",
    "- the text column has a max lenght of 2847 units\n",
    "- there is no null values thus it's no necessary to delete rows\n",
    "- The categories are string, so it's important to cast them into a numerical value"
   ]
  }
 ],
 "metadata": {
  "kernelspec": {
   "display_name": "nlpenv",
   "language": "python",
   "name": "python3"
  },
  "language_info": {
   "codemirror_mode": {
    "name": "ipython",
    "version": 3
   },
   "file_extension": ".py",
   "mimetype": "text/x-python",
   "name": "python",
   "nbconvert_exporter": "python",
   "pygments_lexer": "ipython3",
   "version": "3.10.10"
  },
  "orig_nbformat": 4
 },
 "nbformat": 4,
 "nbformat_minor": 2
}
